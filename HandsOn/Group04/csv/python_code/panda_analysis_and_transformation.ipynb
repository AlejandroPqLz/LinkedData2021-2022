{
 "nbformat": 4,
 "nbformat_minor": 0,
 "metadata": {
  "colab": {
   "name": "panda_analysis_and_transformation.ipynb",
   "provenance": [],
   "collapsed_sections": []
  },
  "language_info": {
   "name": "python"
  },
  "kernelspec": {
   "name": "python3",
   "display_name": "Python 3"
  }
 },
 "cells": [
  {
   "cell_type": "code",
   "metadata": {
    "id": "iRRJBpteOz56"
   },
   "source": [
    "create_updated_files = True\n",
    "create_report = False\n",
    "install_pandas_profiling = False\n",
    "from_drive = False"
   ],
   "execution_count": 1,
   "outputs": []
  },
  {
   "cell_type": "code",
   "metadata": {
    "id": "RtJ9UFOcz7N0"
   },
   "source": [
    "if from_drive:\n",
    "    from google.colab import drive\n",
    "    drive.mount('/content/drive')"
   ],
   "execution_count": 2,
   "outputs": []
  },
  {
   "cell_type": "code",
   "metadata": {
    "id": "SP22tinrTWoY"
   },
   "source": [
    "if install_pandas_profiling:\n",
    "    !pip install pandas-profiling==2.9.0"
   ],
   "execution_count": 3,
   "outputs": []
  },
  {
   "cell_type": "code",
   "metadata": {
    "id": "D-6582vDNaJI"
   },
   "source": [
    "import pandas as pd\n",
    "from collections import defaultdict\n",
    "import datetime as dt\n",
    "import matplotlib.pyplot as plt\n",
    "import matplotlib.dates as mdates\n",
    "import numpy as np\n",
    "\n",
    "import warnings\n",
    "warnings.filterwarnings(\"ignore\")\n",
    "\n",
    "if create_report:\n",
    "    from pandas_profiling import ProfileReport"
   ],
   "execution_count": 4,
   "outputs": []
  },
  {
   "cell_type": "code",
   "metadata": {
    "id": "gOisHTBfNaJO"
   },
   "source": [
    "df1 = pd.read_csv(\"air_quality_merged.csv\")\n",
    "df2 = pd.read_csv(\"meteorological_data_merged.csv\")"
   ],
   "execution_count": 5,
   "outputs": []
  },
  {
   "cell_type": "code",
   "metadata": {
    "colab": {
     "base_uri": "https://localhost:8080/",
     "height": 226
    },
    "id": "nNdgniLbNaJQ",
    "outputId": "1356535c-fd91-4f76-9429-d29bcdd765b0"
   },
   "source": [
    "df2.head()"
   ],
   "execution_count": 6,
   "outputs": [
    {
     "output_type": "execute_result",
     "data": {
      "text/html": [
       "<div>\n",
       "<style scoped>\n",
       "    .dataframe tbody tr th:only-of-type {\n",
       "        vertical-align: middle;\n",
       "    }\n",
       "\n",
       "    .dataframe tbody tr th {\n",
       "        vertical-align: top;\n",
       "    }\n",
       "\n",
       "    .dataframe thead th {\n",
       "        text-align: right;\n",
       "    }\n",
       "</style>\n",
       "<table border=\"1\" class=\"dataframe\">\n",
       "  <thead>\n",
       "    <tr style=\"text-align: right;\">\n",
       "      <th></th>\n",
       "      <th>PROVINCIA</th>\n",
       "      <th>MUNICIPIO</th>\n",
       "      <th>ESTACION</th>\n",
       "      <th>MAGNITUD</th>\n",
       "      <th>PUNTO_MUESTREO</th>\n",
       "      <th>ANO</th>\n",
       "      <th>MES</th>\n",
       "      <th>DIA</th>\n",
       "      <th>H01</th>\n",
       "      <th>V01</th>\n",
       "      <th>H02</th>\n",
       "      <th>V02</th>\n",
       "      <th>H03</th>\n",
       "      <th>V03</th>\n",
       "      <th>H04</th>\n",
       "      <th>V04</th>\n",
       "      <th>H05</th>\n",
       "      <th>V05</th>\n",
       "      <th>H06</th>\n",
       "      <th>V06</th>\n",
       "      <th>H07</th>\n",
       "      <th>V07</th>\n",
       "      <th>H08</th>\n",
       "      <th>V08</th>\n",
       "      <th>H09</th>\n",
       "      <th>V09</th>\n",
       "      <th>H10</th>\n",
       "      <th>V10</th>\n",
       "      <th>H11</th>\n",
       "      <th>V11</th>\n",
       "      <th>H12</th>\n",
       "      <th>V12</th>\n",
       "      <th>H13</th>\n",
       "      <th>V13</th>\n",
       "      <th>H14</th>\n",
       "      <th>V14</th>\n",
       "      <th>H15</th>\n",
       "      <th>V15</th>\n",
       "      <th>H16</th>\n",
       "      <th>V16</th>\n",
       "      <th>H17</th>\n",
       "      <th>V17</th>\n",
       "      <th>H18</th>\n",
       "      <th>V18</th>\n",
       "      <th>H19</th>\n",
       "      <th>V19</th>\n",
       "      <th>H20</th>\n",
       "      <th>V20</th>\n",
       "      <th>H21</th>\n",
       "      <th>V21</th>\n",
       "      <th>H22</th>\n",
       "      <th>V22</th>\n",
       "      <th>H23</th>\n",
       "      <th>V23</th>\n",
       "      <th>H24</th>\n",
       "      <th>V24</th>\n",
       "    </tr>\n",
       "  </thead>\n",
       "  <tbody>\n",
       "    <tr>\n",
       "      <th>0</th>\n",
       "      <td>28</td>\n",
       "      <td>79</td>\n",
       "      <td>102</td>\n",
       "      <td>81</td>\n",
       "      <td>28079102_81_98</td>\n",
       "      <td>2019</td>\n",
       "      <td>1</td>\n",
       "      <td>1</td>\n",
       "      <td>0.65</td>\n",
       "      <td>V</td>\n",
       "      <td>0.95</td>\n",
       "      <td>V</td>\n",
       "      <td>0.87</td>\n",
       "      <td>V</td>\n",
       "      <td>0.73</td>\n",
       "      <td>V</td>\n",
       "      <td>0.57</td>\n",
       "      <td>V</td>\n",
       "      <td>0.57</td>\n",
       "      <td>V</td>\n",
       "      <td>0.80</td>\n",
       "      <td>V</td>\n",
       "      <td>0.85</td>\n",
       "      <td>V</td>\n",
       "      <td>0.90</td>\n",
       "      <td>V</td>\n",
       "      <td>0.73</td>\n",
       "      <td>V</td>\n",
       "      <td>0.85</td>\n",
       "      <td>V</td>\n",
       "      <td>1.02</td>\n",
       "      <td>V</td>\n",
       "      <td>0.62</td>\n",
       "      <td>V</td>\n",
       "      <td>0.45</td>\n",
       "      <td>V</td>\n",
       "      <td>0.77</td>\n",
       "      <td>V</td>\n",
       "      <td>0.35</td>\n",
       "      <td>V</td>\n",
       "      <td>0.98</td>\n",
       "      <td>V</td>\n",
       "      <td>0.47</td>\n",
       "      <td>V</td>\n",
       "      <td>0.37</td>\n",
       "      <td>V</td>\n",
       "      <td>0.43</td>\n",
       "      <td>V</td>\n",
       "      <td>0.58</td>\n",
       "      <td>V</td>\n",
       "      <td>0.38</td>\n",
       "      <td>V</td>\n",
       "      <td>0.67</td>\n",
       "      <td>V</td>\n",
       "      <td>0.18</td>\n",
       "      <td>V</td>\n",
       "    </tr>\n",
       "    <tr>\n",
       "      <th>1</th>\n",
       "      <td>28</td>\n",
       "      <td>79</td>\n",
       "      <td>102</td>\n",
       "      <td>81</td>\n",
       "      <td>28079102_81_98</td>\n",
       "      <td>2019</td>\n",
       "      <td>1</td>\n",
       "      <td>2</td>\n",
       "      <td>0.50</td>\n",
       "      <td>V</td>\n",
       "      <td>0.95</td>\n",
       "      <td>V</td>\n",
       "      <td>0.60</td>\n",
       "      <td>V</td>\n",
       "      <td>0.73</td>\n",
       "      <td>V</td>\n",
       "      <td>1.62</td>\n",
       "      <td>V</td>\n",
       "      <td>1.42</td>\n",
       "      <td>V</td>\n",
       "      <td>0.48</td>\n",
       "      <td>V</td>\n",
       "      <td>2.42</td>\n",
       "      <td>V</td>\n",
       "      <td>0.75</td>\n",
       "      <td>V</td>\n",
       "      <td>1.35</td>\n",
       "      <td>V</td>\n",
       "      <td>1.40</td>\n",
       "      <td>V</td>\n",
       "      <td>0.98</td>\n",
       "      <td>V</td>\n",
       "      <td>0.83</td>\n",
       "      <td>V</td>\n",
       "      <td>0.47</td>\n",
       "      <td>V</td>\n",
       "      <td>0.52</td>\n",
       "      <td>V</td>\n",
       "      <td>0.50</td>\n",
       "      <td>V</td>\n",
       "      <td>0.57</td>\n",
       "      <td>V</td>\n",
       "      <td>0.80</td>\n",
       "      <td>V</td>\n",
       "      <td>0.88</td>\n",
       "      <td>V</td>\n",
       "      <td>0.53</td>\n",
       "      <td>V</td>\n",
       "      <td>1.13</td>\n",
       "      <td>V</td>\n",
       "      <td>2.02</td>\n",
       "      <td>V</td>\n",
       "      <td>3.48</td>\n",
       "      <td>V</td>\n",
       "      <td>2.82</td>\n",
       "      <td>V</td>\n",
       "    </tr>\n",
       "    <tr>\n",
       "      <th>2</th>\n",
       "      <td>28</td>\n",
       "      <td>79</td>\n",
       "      <td>102</td>\n",
       "      <td>81</td>\n",
       "      <td>28079102_81_98</td>\n",
       "      <td>2019</td>\n",
       "      <td>1</td>\n",
       "      <td>3</td>\n",
       "      <td>2.22</td>\n",
       "      <td>V</td>\n",
       "      <td>2.53</td>\n",
       "      <td>V</td>\n",
       "      <td>2.20</td>\n",
       "      <td>V</td>\n",
       "      <td>2.43</td>\n",
       "      <td>V</td>\n",
       "      <td>1.90</td>\n",
       "      <td>V</td>\n",
       "      <td>2.18</td>\n",
       "      <td>V</td>\n",
       "      <td>2.13</td>\n",
       "      <td>V</td>\n",
       "      <td>2.17</td>\n",
       "      <td>V</td>\n",
       "      <td>1.12</td>\n",
       "      <td>V</td>\n",
       "      <td>1.23</td>\n",
       "      <td>V</td>\n",
       "      <td>1.02</td>\n",
       "      <td>V</td>\n",
       "      <td>0.93</td>\n",
       "      <td>V</td>\n",
       "      <td>1.23</td>\n",
       "      <td>V</td>\n",
       "      <td>1.33</td>\n",
       "      <td>V</td>\n",
       "      <td>0.82</td>\n",
       "      <td>V</td>\n",
       "      <td>1.12</td>\n",
       "      <td>V</td>\n",
       "      <td>0.77</td>\n",
       "      <td>V</td>\n",
       "      <td>0.43</td>\n",
       "      <td>V</td>\n",
       "      <td>0.25</td>\n",
       "      <td>V</td>\n",
       "      <td>0.50</td>\n",
       "      <td>V</td>\n",
       "      <td>2.02</td>\n",
       "      <td>V</td>\n",
       "      <td>1.33</td>\n",
       "      <td>V</td>\n",
       "      <td>0.83</td>\n",
       "      <td>V</td>\n",
       "      <td>0.67</td>\n",
       "      <td>V</td>\n",
       "    </tr>\n",
       "    <tr>\n",
       "      <th>3</th>\n",
       "      <td>28</td>\n",
       "      <td>79</td>\n",
       "      <td>102</td>\n",
       "      <td>81</td>\n",
       "      <td>28079102_81_98</td>\n",
       "      <td>2019</td>\n",
       "      <td>1</td>\n",
       "      <td>4</td>\n",
       "      <td>0.87</td>\n",
       "      <td>V</td>\n",
       "      <td>0.77</td>\n",
       "      <td>V</td>\n",
       "      <td>0.87</td>\n",
       "      <td>V</td>\n",
       "      <td>0.92</td>\n",
       "      <td>V</td>\n",
       "      <td>0.65</td>\n",
       "      <td>V</td>\n",
       "      <td>0.47</td>\n",
       "      <td>V</td>\n",
       "      <td>0.70</td>\n",
       "      <td>V</td>\n",
       "      <td>0.23</td>\n",
       "      <td>V</td>\n",
       "      <td>0.50</td>\n",
       "      <td>V</td>\n",
       "      <td>0.78</td>\n",
       "      <td>V</td>\n",
       "      <td>1.03</td>\n",
       "      <td>V</td>\n",
       "      <td>0.87</td>\n",
       "      <td>V</td>\n",
       "      <td>0.45</td>\n",
       "      <td>V</td>\n",
       "      <td>0.50</td>\n",
       "      <td>V</td>\n",
       "      <td>0.48</td>\n",
       "      <td>V</td>\n",
       "      <td>0.28</td>\n",
       "      <td>V</td>\n",
       "      <td>0.68</td>\n",
       "      <td>V</td>\n",
       "      <td>0.47</td>\n",
       "      <td>V</td>\n",
       "      <td>0.40</td>\n",
       "      <td>V</td>\n",
       "      <td>0.13</td>\n",
       "      <td>V</td>\n",
       "      <td>0.58</td>\n",
       "      <td>V</td>\n",
       "      <td>0.92</td>\n",
       "      <td>V</td>\n",
       "      <td>0.20</td>\n",
       "      <td>V</td>\n",
       "      <td>0.33</td>\n",
       "      <td>V</td>\n",
       "    </tr>\n",
       "    <tr>\n",
       "      <th>4</th>\n",
       "      <td>28</td>\n",
       "      <td>79</td>\n",
       "      <td>102</td>\n",
       "      <td>81</td>\n",
       "      <td>28079102_81_98</td>\n",
       "      <td>2019</td>\n",
       "      <td>1</td>\n",
       "      <td>5</td>\n",
       "      <td>0.57</td>\n",
       "      <td>V</td>\n",
       "      <td>1.82</td>\n",
       "      <td>V</td>\n",
       "      <td>1.65</td>\n",
       "      <td>V</td>\n",
       "      <td>0.55</td>\n",
       "      <td>V</td>\n",
       "      <td>0.58</td>\n",
       "      <td>V</td>\n",
       "      <td>0.60</td>\n",
       "      <td>V</td>\n",
       "      <td>0.68</td>\n",
       "      <td>V</td>\n",
       "      <td>0.42</td>\n",
       "      <td>V</td>\n",
       "      <td>0.52</td>\n",
       "      <td>V</td>\n",
       "      <td>0.23</td>\n",
       "      <td>V</td>\n",
       "      <td>0.42</td>\n",
       "      <td>V</td>\n",
       "      <td>0.92</td>\n",
       "      <td>V</td>\n",
       "      <td>0.28</td>\n",
       "      <td>V</td>\n",
       "      <td>0.63</td>\n",
       "      <td>V</td>\n",
       "      <td>0.68</td>\n",
       "      <td>V</td>\n",
       "      <td>0.87</td>\n",
       "      <td>V</td>\n",
       "      <td>0.60</td>\n",
       "      <td>V</td>\n",
       "      <td>0.45</td>\n",
       "      <td>V</td>\n",
       "      <td>0.60</td>\n",
       "      <td>V</td>\n",
       "      <td>0.47</td>\n",
       "      <td>V</td>\n",
       "      <td>0.32</td>\n",
       "      <td>V</td>\n",
       "      <td>0.30</td>\n",
       "      <td>V</td>\n",
       "      <td>0.23</td>\n",
       "      <td>V</td>\n",
       "      <td>0.45</td>\n",
       "      <td>V</td>\n",
       "    </tr>\n",
       "  </tbody>\n",
       "</table>\n",
       "</div>"
      ],
      "text/plain": [
       "   PROVINCIA  MUNICIPIO  ESTACION  MAGNITUD  ...   H23  V23   H24  V24\n",
       "0         28         79       102        81  ...  0.67    V  0.18    V\n",
       "1         28         79       102        81  ...  3.48    V  2.82    V\n",
       "2         28         79       102        81  ...  0.83    V  0.67    V\n",
       "3         28         79       102        81  ...  0.20    V  0.33    V\n",
       "4         28         79       102        81  ...  0.23    V  0.45    V\n",
       "\n",
       "[5 rows x 56 columns]"
      ]
     },
     "metadata": {},
     "execution_count": 6
    }
   ]
  },
  {
   "cell_type": "markdown",
   "metadata": {
    "id": "98n_0Q3kp4TL"
   },
   "source": [
    "## Cleaning "
   ]
  },
  {
   "cell_type": "markdown",
   "metadata": {
    "id": "HM7XaPhiBrBl"
   },
   "source": [
    "### Dropping columns with invalid data (N)"
   ]
  },
  {
   "cell_type": "code",
   "metadata": {
    "colab": {
     "base_uri": "https://localhost:8080/"
    },
    "id": "EvCCCjTbNaJR",
    "outputId": "47c3241b-db63-43b7-e935-e0bc4c107468"
   },
   "source": [
    "len(df1), len(df2)"
   ],
   "execution_count": 7,
   "outputs": [
    {
     "output_type": "execute_result",
     "data": {
      "text/plain": [
       "(107523, 89943)"
      ]
     },
     "metadata": {},
     "execution_count": 7
    }
   ]
  },
  {
   "cell_type": "code",
   "metadata": {
    "id": "ahzWvh5kNaJS"
   },
   "source": [
    "def drop_invalid_data(_df: pd.DataFrame):\n",
    "    numbers = [\"01\", \"02\", \"03\", \"04\", \"05\", \"06\", \"07\", \"08\", \"09\", \"10\",\n",
    "           \"11\", \"12\", \"13\", \"14\", \"15\", \"16\", \"17\", \"18\", \"19\", \"20\",\n",
    "           \"21\", \"22\", \"23\", \"24\"]\n",
    "           \n",
    "    for num in numbers:\n",
    "        _df = _df[_df[\"V\" + num] == \"V\"]\n",
    "    return _df"
   ],
   "execution_count": 8,
   "outputs": []
  },
  {
   "cell_type": "code",
   "metadata": {
    "id": "Se7Q0zwxNaJT"
   },
   "source": [
    "df1 = drop_invalid_data(df1)\n",
    "df2 = drop_invalid_data(df2)"
   ],
   "execution_count": 9,
   "outputs": []
  },
  {
   "cell_type": "markdown",
   "metadata": {
    "id": "hG1wfN5PQPP6"
   },
   "source": [
    "We have decided to drop this rows because there are just a few of them with invalid data. Furthermore, keeping them might generate outliers or noise since we are computing the mean of the day. This is because specially air polution probably varies during the day hours. For instance, NO_2 could reach his peak at 5 pm every day (we have not study it and it is not our goal with this project), thus removing that hour of the equation will result in a unusual low value for that day."
   ]
  },
  {
   "cell_type": "code",
   "metadata": {
    "colab": {
     "base_uri": "https://localhost:8080/"
    },
    "id": "MHmqq83pNaJU",
    "outputId": "1d349a75-1ad2-423a-f206-b1f1cfdb683f"
   },
   "source": [
    "len(df1), len(df2)"
   ],
   "execution_count": 10,
   "outputs": [
    {
     "output_type": "execute_result",
     "data": {
      "text/plain": [
       "(95278, 85168)"
      ]
     },
     "metadata": {},
     "execution_count": 10
    }
   ]
  },
  {
   "cell_type": "code",
   "metadata": {
    "id": "9zymyE8gNaJV"
   },
   "source": [
    "df1 = df1[[col for col in df1.columns if col[0] != \"V\"]]\n",
    "df2 = df2[[col for col in df2.columns if col[0] != \"V\"]]"
   ],
   "execution_count": 11,
   "outputs": []
  },
  {
   "cell_type": "markdown",
   "metadata": {
    "id": "x2UkgsICCSvG"
   },
   "source": [
    "### PROVINCIA and MUNICIPIO have constant values 28 and 79 respectively, so we can drop them "
   ]
  },
  {
   "cell_type": "code",
   "metadata": {
    "id": "x18GgNYC3QdJ"
   },
   "source": [
    "df1 = df1.drop([\"PROVINCIA\", \"MUNICIPIO\"], axis=1)\n",
    "df2 = df2.drop([\"PROVINCIA\", \"MUNICIPIO\"], axis=1)"
   ],
   "execution_count": 12,
   "outputs": []
  },
  {
   "cell_type": "markdown",
   "metadata": {
    "id": "tCJEl-iTsTNQ"
   },
   "source": [
    "### Keeping just the needed values"
   ]
  },
  {
   "cell_type": "code",
   "metadata": {
    "id": "pY1x6Kt1sY6F"
   },
   "source": [
    "df2 = df2[df2.MAGNITUD.isin({83, 89})]"
   ],
   "execution_count": 13,
   "outputs": []
  },
  {
   "cell_type": "markdown",
   "metadata": {
    "id": "k0MulHAqqA7n"
   },
   "source": [
    "## Transforming"
   ]
  },
  {
   "cell_type": "markdown",
   "metadata": {
    "id": "MaMt4jJFB-Il"
   },
   "source": [
    "### Adding a datetime column"
   ]
  },
  {
   "cell_type": "code",
   "metadata": {
    "id": "O6qMxZnaNaJX"
   },
   "source": [
    "df1 = df1.rename({\"ANO\": \"year\", \"MES\": \"month\", \"DIA\": \"day\"}, axis=1)\n",
    "df2 = df2.rename({\"ANO\": \"year\", \"MES\": \"month\", \"DIA\": \"day\"}, axis=1)"
   ],
   "execution_count": 14,
   "outputs": []
  },
  {
   "cell_type": "code",
   "metadata": {
    "id": "vcwVcOyPNaJZ"
   },
   "source": [
    "df1[\"FECHA\"] = pd.to_datetime(df1[[\"year\", \"month\", \"day\"]])\n",
    "df2[\"FECHA\"] = pd.to_datetime(df2[[\"year\", \"month\", \"day\"]])"
   ],
   "execution_count": 15,
   "outputs": []
  },
  {
   "cell_type": "code",
   "metadata": {
    "id": "l-3okeJBNaJa"
   },
   "source": [
    "df1.sort_values(\"FECHA\", inplace=True)\n",
    "df2.sort_values(\"FECHA\", inplace=True)"
   ],
   "execution_count": 16,
   "outputs": []
  },
  {
   "cell_type": "code",
   "metadata": {
    "id": "8OB3fI0dDfq8"
   },
   "source": [
    "df1.reset_index(drop=True, inplace=True)\n",
    "df2.reset_index(drop=True, inplace=True)"
   ],
   "execution_count": 17,
   "outputs": []
  },
  {
   "cell_type": "code",
   "metadata": {
    "id": "Y5Llq2pZAfYi"
   },
   "source": [
    "df1 = df1.rename({\"year\": \"ANO\", \"month\": \"MES\", \"day\": \"DIA\"}, axis=1)\n",
    "df2 = df2.rename({\"year\": \"ANO\", \"month\": \"MES\", \"day\": \"DIA\"}, axis=1)"
   ],
   "execution_count": 18,
   "outputs": []
  },
  {
   "cell_type": "code",
   "metadata": {
    "colab": {
     "base_uri": "https://localhost:8080/",
     "height": 216
    },
    "id": "OASbmvEDDvjJ",
    "outputId": "cbd1fb2d-67a7-4115-ea27-fd69aacb16db"
   },
   "source": [
    "df1.head(3)"
   ],
   "execution_count": 19,
   "outputs": [
    {
     "output_type": "execute_result",
     "data": {
      "text/html": [
       "<div>\n",
       "<style scoped>\n",
       "    .dataframe tbody tr th:only-of-type {\n",
       "        vertical-align: middle;\n",
       "    }\n",
       "\n",
       "    .dataframe tbody tr th {\n",
       "        vertical-align: top;\n",
       "    }\n",
       "\n",
       "    .dataframe thead th {\n",
       "        text-align: right;\n",
       "    }\n",
       "</style>\n",
       "<table border=\"1\" class=\"dataframe\">\n",
       "  <thead>\n",
       "    <tr style=\"text-align: right;\">\n",
       "      <th></th>\n",
       "      <th>ESTACION</th>\n",
       "      <th>MAGNITUD</th>\n",
       "      <th>PUNTO_MUESTREO</th>\n",
       "      <th>ANO</th>\n",
       "      <th>MES</th>\n",
       "      <th>DIA</th>\n",
       "      <th>H01</th>\n",
       "      <th>H02</th>\n",
       "      <th>H03</th>\n",
       "      <th>H04</th>\n",
       "      <th>H05</th>\n",
       "      <th>H06</th>\n",
       "      <th>H07</th>\n",
       "      <th>H08</th>\n",
       "      <th>H09</th>\n",
       "      <th>H10</th>\n",
       "      <th>H11</th>\n",
       "      <th>H12</th>\n",
       "      <th>H13</th>\n",
       "      <th>H14</th>\n",
       "      <th>H15</th>\n",
       "      <th>H16</th>\n",
       "      <th>H17</th>\n",
       "      <th>H18</th>\n",
       "      <th>H19</th>\n",
       "      <th>H20</th>\n",
       "      <th>H21</th>\n",
       "      <th>H22</th>\n",
       "      <th>H23</th>\n",
       "      <th>H24</th>\n",
       "      <th>FECHA</th>\n",
       "    </tr>\n",
       "  </thead>\n",
       "  <tbody>\n",
       "    <tr>\n",
       "      <th>0</th>\n",
       "      <td>4</td>\n",
       "      <td>1</td>\n",
       "      <td>28079004_1_38</td>\n",
       "      <td>2019</td>\n",
       "      <td>1</td>\n",
       "      <td>1</td>\n",
       "      <td>23.0</td>\n",
       "      <td>17.0</td>\n",
       "      <td>19.0</td>\n",
       "      <td>14.0</td>\n",
       "      <td>13.0</td>\n",
       "      <td>12.0</td>\n",
       "      <td>11.0</td>\n",
       "      <td>12.0</td>\n",
       "      <td>11.0</td>\n",
       "      <td>12.0</td>\n",
       "      <td>16.0</td>\n",
       "      <td>25.0</td>\n",
       "      <td>23.0</td>\n",
       "      <td>22.0</td>\n",
       "      <td>19.0</td>\n",
       "      <td>18.0</td>\n",
       "      <td>17.0</td>\n",
       "      <td>18.0</td>\n",
       "      <td>23.0</td>\n",
       "      <td>28.0</td>\n",
       "      <td>26.0</td>\n",
       "      <td>24.0</td>\n",
       "      <td>19.0</td>\n",
       "      <td>16.0</td>\n",
       "      <td>2019-01-01</td>\n",
       "    </tr>\n",
       "    <tr>\n",
       "      <th>1</th>\n",
       "      <td>36</td>\n",
       "      <td>8</td>\n",
       "      <td>28079036_8_8</td>\n",
       "      <td>2019</td>\n",
       "      <td>1</td>\n",
       "      <td>1</td>\n",
       "      <td>64.0</td>\n",
       "      <td>73.0</td>\n",
       "      <td>73.0</td>\n",
       "      <td>65.0</td>\n",
       "      <td>61.0</td>\n",
       "      <td>37.0</td>\n",
       "      <td>47.0</td>\n",
       "      <td>57.0</td>\n",
       "      <td>54.0</td>\n",
       "      <td>32.0</td>\n",
       "      <td>42.0</td>\n",
       "      <td>47.0</td>\n",
       "      <td>42.0</td>\n",
       "      <td>48.0</td>\n",
       "      <td>53.0</td>\n",
       "      <td>50.0</td>\n",
       "      <td>49.0</td>\n",
       "      <td>63.0</td>\n",
       "      <td>102.0</td>\n",
       "      <td>127.0</td>\n",
       "      <td>125.0</td>\n",
       "      <td>113.0</td>\n",
       "      <td>152.0</td>\n",
       "      <td>100.0</td>\n",
       "      <td>2019-01-01</td>\n",
       "    </tr>\n",
       "    <tr>\n",
       "      <th>2</th>\n",
       "      <td>36</td>\n",
       "      <td>7</td>\n",
       "      <td>28079036_7_8</td>\n",
       "      <td>2019</td>\n",
       "      <td>1</td>\n",
       "      <td>1</td>\n",
       "      <td>28.0</td>\n",
       "      <td>68.0</td>\n",
       "      <td>68.0</td>\n",
       "      <td>38.0</td>\n",
       "      <td>27.0</td>\n",
       "      <td>9.0</td>\n",
       "      <td>24.0</td>\n",
       "      <td>29.0</td>\n",
       "      <td>27.0</td>\n",
       "      <td>8.0</td>\n",
       "      <td>22.0</td>\n",
       "      <td>25.0</td>\n",
       "      <td>18.0</td>\n",
       "      <td>24.0</td>\n",
       "      <td>31.0</td>\n",
       "      <td>18.0</td>\n",
       "      <td>12.0</td>\n",
       "      <td>11.0</td>\n",
       "      <td>72.0</td>\n",
       "      <td>143.0</td>\n",
       "      <td>160.0</td>\n",
       "      <td>162.0</td>\n",
       "      <td>280.0</td>\n",
       "      <td>101.0</td>\n",
       "      <td>2019-01-01</td>\n",
       "    </tr>\n",
       "  </tbody>\n",
       "</table>\n",
       "</div>"
      ],
      "text/plain": [
       "   ESTACION  MAGNITUD PUNTO_MUESTREO   ANO  ...    H22    H23    H24      FECHA\n",
       "0         4         1  28079004_1_38  2019  ...   24.0   19.0   16.0 2019-01-01\n",
       "1        36         8   28079036_8_8  2019  ...  113.0  152.0  100.0 2019-01-01\n",
       "2        36         7   28079036_7_8  2019  ...  162.0  280.0  101.0 2019-01-01\n",
       "\n",
       "[3 rows x 31 columns]"
      ]
     },
     "metadata": {},
     "execution_count": 19
    }
   ]
  },
  {
   "cell_type": "markdown",
   "metadata": {
    "id": "9JIQvZ3eCm5i"
   },
   "source": [
    "### Change the values of MAGNITUD to a more readable information"
   ]
  },
  {
   "cell_type": "code",
   "metadata": {
    "id": "ayyCOibCsbyR"
   },
   "source": [
    "# met_dict = {80:\"UV Radiation(mW/m^2)\",81:\"Wind Velocity(m/s)\",82:\"Wind Direction(-)\",83:\"Temperature(ºC)\",86:\"Relative Humidity(%)\",87:\"Barometric Pressure(mb)\",88:\"Solar Radiation(W/m^2)\",89:\"Precipitation(l/m^2)\"}\n",
    "met_dict = {83:\"Temperature(ºC)\", 89:\"Precipitation(l/m^2)\"}\n",
    "air_dict = {1:\"SO_2(µg/m^3)\",6:\"CO(µg/m^3)\",7:\"NO(µg/m^3)\",8:\"NO_2(µg/m^3)\",9:\"PM2.5(µg/m^3)\",10:\"PM10(µg/m^3)\",12:\"NOx(µg/m^3)\",14:\"O_3(µg/m^3)\",20:\"TOL(µg/m^3)\",30:\"BEN(µg/m^3)\",35:\"EBE(µg/m^3)\",37:\"MXY(µg/m^3)\",38:\"PXY(µg/m^3)\",39:\"OXY(µg/m^3)\",42:\"TCH(mg/m^3)\",43:\"CH_4(mg/m^3)\",44:\"NMHC(mg/m^3)\"}\n",
    "df1.MAGNITUD = df1.MAGNITUD.map(air_dict)\n",
    "df2.MAGNITUD = df2.MAGNITUD.map(met_dict)"
   ],
   "execution_count": 20,
   "outputs": []
  },
  {
   "cell_type": "code",
   "metadata": {
    "colab": {
     "base_uri": "https://localhost:8080/",
     "height": 216
    },
    "id": "rkTifXGO_oEs",
    "outputId": "2a9805f7-e332-4c85-ffee-cb3ce4a73a0b"
   },
   "source": [
    "df1.head(3)"
   ],
   "execution_count": 21,
   "outputs": [
    {
     "output_type": "execute_result",
     "data": {
      "text/html": [
       "<div>\n",
       "<style scoped>\n",
       "    .dataframe tbody tr th:only-of-type {\n",
       "        vertical-align: middle;\n",
       "    }\n",
       "\n",
       "    .dataframe tbody tr th {\n",
       "        vertical-align: top;\n",
       "    }\n",
       "\n",
       "    .dataframe thead th {\n",
       "        text-align: right;\n",
       "    }\n",
       "</style>\n",
       "<table border=\"1\" class=\"dataframe\">\n",
       "  <thead>\n",
       "    <tr style=\"text-align: right;\">\n",
       "      <th></th>\n",
       "      <th>ESTACION</th>\n",
       "      <th>MAGNITUD</th>\n",
       "      <th>PUNTO_MUESTREO</th>\n",
       "      <th>ANO</th>\n",
       "      <th>MES</th>\n",
       "      <th>DIA</th>\n",
       "      <th>H01</th>\n",
       "      <th>H02</th>\n",
       "      <th>H03</th>\n",
       "      <th>H04</th>\n",
       "      <th>H05</th>\n",
       "      <th>H06</th>\n",
       "      <th>H07</th>\n",
       "      <th>H08</th>\n",
       "      <th>H09</th>\n",
       "      <th>H10</th>\n",
       "      <th>H11</th>\n",
       "      <th>H12</th>\n",
       "      <th>H13</th>\n",
       "      <th>H14</th>\n",
       "      <th>H15</th>\n",
       "      <th>H16</th>\n",
       "      <th>H17</th>\n",
       "      <th>H18</th>\n",
       "      <th>H19</th>\n",
       "      <th>H20</th>\n",
       "      <th>H21</th>\n",
       "      <th>H22</th>\n",
       "      <th>H23</th>\n",
       "      <th>H24</th>\n",
       "      <th>FECHA</th>\n",
       "    </tr>\n",
       "  </thead>\n",
       "  <tbody>\n",
       "    <tr>\n",
       "      <th>0</th>\n",
       "      <td>4</td>\n",
       "      <td>SO_2(µg/m^3)</td>\n",
       "      <td>28079004_1_38</td>\n",
       "      <td>2019</td>\n",
       "      <td>1</td>\n",
       "      <td>1</td>\n",
       "      <td>23.0</td>\n",
       "      <td>17.0</td>\n",
       "      <td>19.0</td>\n",
       "      <td>14.0</td>\n",
       "      <td>13.0</td>\n",
       "      <td>12.0</td>\n",
       "      <td>11.0</td>\n",
       "      <td>12.0</td>\n",
       "      <td>11.0</td>\n",
       "      <td>12.0</td>\n",
       "      <td>16.0</td>\n",
       "      <td>25.0</td>\n",
       "      <td>23.0</td>\n",
       "      <td>22.0</td>\n",
       "      <td>19.0</td>\n",
       "      <td>18.0</td>\n",
       "      <td>17.0</td>\n",
       "      <td>18.0</td>\n",
       "      <td>23.0</td>\n",
       "      <td>28.0</td>\n",
       "      <td>26.0</td>\n",
       "      <td>24.0</td>\n",
       "      <td>19.0</td>\n",
       "      <td>16.0</td>\n",
       "      <td>2019-01-01</td>\n",
       "    </tr>\n",
       "    <tr>\n",
       "      <th>1</th>\n",
       "      <td>36</td>\n",
       "      <td>NO_2(µg/m^3)</td>\n",
       "      <td>28079036_8_8</td>\n",
       "      <td>2019</td>\n",
       "      <td>1</td>\n",
       "      <td>1</td>\n",
       "      <td>64.0</td>\n",
       "      <td>73.0</td>\n",
       "      <td>73.0</td>\n",
       "      <td>65.0</td>\n",
       "      <td>61.0</td>\n",
       "      <td>37.0</td>\n",
       "      <td>47.0</td>\n",
       "      <td>57.0</td>\n",
       "      <td>54.0</td>\n",
       "      <td>32.0</td>\n",
       "      <td>42.0</td>\n",
       "      <td>47.0</td>\n",
       "      <td>42.0</td>\n",
       "      <td>48.0</td>\n",
       "      <td>53.0</td>\n",
       "      <td>50.0</td>\n",
       "      <td>49.0</td>\n",
       "      <td>63.0</td>\n",
       "      <td>102.0</td>\n",
       "      <td>127.0</td>\n",
       "      <td>125.0</td>\n",
       "      <td>113.0</td>\n",
       "      <td>152.0</td>\n",
       "      <td>100.0</td>\n",
       "      <td>2019-01-01</td>\n",
       "    </tr>\n",
       "    <tr>\n",
       "      <th>2</th>\n",
       "      <td>36</td>\n",
       "      <td>NO(µg/m^3)</td>\n",
       "      <td>28079036_7_8</td>\n",
       "      <td>2019</td>\n",
       "      <td>1</td>\n",
       "      <td>1</td>\n",
       "      <td>28.0</td>\n",
       "      <td>68.0</td>\n",
       "      <td>68.0</td>\n",
       "      <td>38.0</td>\n",
       "      <td>27.0</td>\n",
       "      <td>9.0</td>\n",
       "      <td>24.0</td>\n",
       "      <td>29.0</td>\n",
       "      <td>27.0</td>\n",
       "      <td>8.0</td>\n",
       "      <td>22.0</td>\n",
       "      <td>25.0</td>\n",
       "      <td>18.0</td>\n",
       "      <td>24.0</td>\n",
       "      <td>31.0</td>\n",
       "      <td>18.0</td>\n",
       "      <td>12.0</td>\n",
       "      <td>11.0</td>\n",
       "      <td>72.0</td>\n",
       "      <td>143.0</td>\n",
       "      <td>160.0</td>\n",
       "      <td>162.0</td>\n",
       "      <td>280.0</td>\n",
       "      <td>101.0</td>\n",
       "      <td>2019-01-01</td>\n",
       "    </tr>\n",
       "  </tbody>\n",
       "</table>\n",
       "</div>"
      ],
      "text/plain": [
       "   ESTACION      MAGNITUD PUNTO_MUESTREO   ANO  ...    H22    H23    H24      FECHA\n",
       "0         4  SO_2(µg/m^3)  28079004_1_38  2019  ...   24.0   19.0   16.0 2019-01-01\n",
       "1        36  NO_2(µg/m^3)   28079036_8_8  2019  ...  113.0  152.0  100.0 2019-01-01\n",
       "2        36    NO(µg/m^3)   28079036_7_8  2019  ...  162.0  280.0  101.0 2019-01-01\n",
       "\n",
       "[3 rows x 31 columns]"
      ]
     },
     "metadata": {},
     "execution_count": 21
    }
   ]
  },
  {
   "cell_type": "markdown",
   "metadata": {
    "id": "zpXAgC8fEl0Z"
   },
   "source": [
    "### Add CALLE column"
   ]
  },
  {
   "cell_type": "markdown",
   "metadata": {
    "id": "UaNYMYyyHf3E"
   },
   "source": [
    "Using the station code we have to assign the corresponding address which can be found in [interpretacion_calidad_del_aire](https://bit.ly/3czGpCF) and [interpretacion_de_datos_meteorologicos](\n",
    "https://bit.ly/32eEtNM). The station code starts with 28079 and it is followed by the ESTACION number (with 3 digits: e.g. 4 -> 004). It can also be found in the prefix of PUNTO_MUESTREO.\n",
    "\n"
   ]
  },
  {
   "cell_type": "code",
   "metadata": {
    "id": "v0wZCcE2LCZ9"
   },
   "source": [
    "calle_dict={1:\"Paseo Recoletos\", 2:\"Glorieta Carlos V\", 3:\"Plaza del Carmen\", \n",
    "            35:\"Plaza del Carmen\", 4:\"Plaza de Espana\", 5:\"Barrio del Pilar\", \n",
    "            39:\"Barrio del Pilar\", 6:\"Plaza Doctor Maranon\", \n",
    "            7:\"Plaza Mayor de Salamanca\", 8:\"Escuelas Aguirre\", \n",
    "            9:\"Plaza Luca de Tena\", 10: \"Cuatro Caminos\", 38:\"Cuatro Caminos\", \n",
    "            11:\"Avenida Ramon y Cajal\", 12:\"Plaza Manuel Becerra\", 13:\"Vallecas\", \n",
    "            40:\"Vallecas\", 14:\"Plaza Fernandez Ladreda\", 15:\"Plaza Castilla\", \n",
    "            50:\"Plaza Castilla\", 16:\"Arturo Soria\", 17:\"Villaverde Alto\", \n",
    "            18:\"Farolillo\", 19: \"Huerta Castaneda\", 20:\"Moratalaz\", \n",
    "            36:\"Moratalaz\", 102:\"JMD Moratalaz\", 21:\"Plaza Cristo Rey\", \n",
    "            22:\"Paseo Pontones\", 23:\"Alcala\", 24:\"Casa de Campo\", \n",
    "            25:\"Santa Eugenia\", 26:\"Urbanizacion Embajada\", \n",
    "            55:\"Urbanizacion Embajada\", 27:\"Barajas\", 47:\"Mendez Alvaro\", \n",
    "            48:\"Paseo de la Castellana\", 49:\"Retiro\", 54:\"Ensanche de Vallecas\", \n",
    "            56:\"Plaza Eliptica\", 57:\"Sanchinarro\", 58:\"El Pardo\", \n",
    "            59:\"Parque Juan Carlos I\", 86:\"Tres Olivos\", 60:\"Tres Olivos\", \n",
    "            103:\"JMD Villaverde\", 104:\"EDAR La China\", \n",
    "            106:\"Centro Municipal de Acustica\", 107:\"JMD Hortaleza\", \n",
    "            108:\"Penagrande\", 109:\"JMD Chamberi\", 110:\"JMD Centro\", \n",
    "            111:\"JMD Chamartin\", 112:\"JMD Vallecas 1\", 113:\"JMD Vallecas 2\", \n",
    "            114:\"Matadero 1\", 115:\"Matadero 2\"}"
   ],
   "execution_count": 22,
   "outputs": []
  },
  {
   "cell_type": "code",
   "metadata": {
    "id": "gFQ9tXvTK4Oo",
    "colab": {
     "base_uri": "https://localhost:8080/",
     "height": 557
    },
    "outputId": "132d3c68-7a6c-42a5-f16d-023a1b42efa8"
   },
   "source": [
    "df1[\"CALLE\"] = df1[\"ESTACION\"].map(calle_dict)\n",
    "df2[\"CALLE\"] = df2[\"ESTACION\"].map(calle_dict)\n",
    "df1.head(10)"
   ],
   "execution_count": 23,
   "outputs": [
    {
     "output_type": "execute_result",
     "data": {
      "text/html": [
       "<div>\n",
       "<style scoped>\n",
       "    .dataframe tbody tr th:only-of-type {\n",
       "        vertical-align: middle;\n",
       "    }\n",
       "\n",
       "    .dataframe tbody tr th {\n",
       "        vertical-align: top;\n",
       "    }\n",
       "\n",
       "    .dataframe thead th {\n",
       "        text-align: right;\n",
       "    }\n",
       "</style>\n",
       "<table border=\"1\" class=\"dataframe\">\n",
       "  <thead>\n",
       "    <tr style=\"text-align: right;\">\n",
       "      <th></th>\n",
       "      <th>ESTACION</th>\n",
       "      <th>MAGNITUD</th>\n",
       "      <th>PUNTO_MUESTREO</th>\n",
       "      <th>ANO</th>\n",
       "      <th>MES</th>\n",
       "      <th>DIA</th>\n",
       "      <th>H01</th>\n",
       "      <th>H02</th>\n",
       "      <th>H03</th>\n",
       "      <th>H04</th>\n",
       "      <th>H05</th>\n",
       "      <th>H06</th>\n",
       "      <th>H07</th>\n",
       "      <th>H08</th>\n",
       "      <th>H09</th>\n",
       "      <th>H10</th>\n",
       "      <th>H11</th>\n",
       "      <th>H12</th>\n",
       "      <th>H13</th>\n",
       "      <th>H14</th>\n",
       "      <th>H15</th>\n",
       "      <th>H16</th>\n",
       "      <th>H17</th>\n",
       "      <th>H18</th>\n",
       "      <th>H19</th>\n",
       "      <th>H20</th>\n",
       "      <th>H21</th>\n",
       "      <th>H22</th>\n",
       "      <th>H23</th>\n",
       "      <th>H24</th>\n",
       "      <th>FECHA</th>\n",
       "      <th>CALLE</th>\n",
       "    </tr>\n",
       "  </thead>\n",
       "  <tbody>\n",
       "    <tr>\n",
       "      <th>0</th>\n",
       "      <td>4</td>\n",
       "      <td>SO_2(µg/m^3)</td>\n",
       "      <td>28079004_1_38</td>\n",
       "      <td>2019</td>\n",
       "      <td>1</td>\n",
       "      <td>1</td>\n",
       "      <td>23.00</td>\n",
       "      <td>17.0</td>\n",
       "      <td>19.00</td>\n",
       "      <td>14.00</td>\n",
       "      <td>13.00</td>\n",
       "      <td>12.00</td>\n",
       "      <td>11.00</td>\n",
       "      <td>12.00</td>\n",
       "      <td>11.0</td>\n",
       "      <td>12.00</td>\n",
       "      <td>16.00</td>\n",
       "      <td>25.0</td>\n",
       "      <td>23.00</td>\n",
       "      <td>22.00</td>\n",
       "      <td>19.00</td>\n",
       "      <td>18.00</td>\n",
       "      <td>17.00</td>\n",
       "      <td>18.00</td>\n",
       "      <td>23.00</td>\n",
       "      <td>28.00</td>\n",
       "      <td>26.00</td>\n",
       "      <td>24.00</td>\n",
       "      <td>19.0</td>\n",
       "      <td>16.00</td>\n",
       "      <td>2019-01-01</td>\n",
       "      <td>Plaza de Espana</td>\n",
       "    </tr>\n",
       "    <tr>\n",
       "      <th>1</th>\n",
       "      <td>36</td>\n",
       "      <td>NO_2(µg/m^3)</td>\n",
       "      <td>28079036_8_8</td>\n",
       "      <td>2019</td>\n",
       "      <td>1</td>\n",
       "      <td>1</td>\n",
       "      <td>64.00</td>\n",
       "      <td>73.0</td>\n",
       "      <td>73.00</td>\n",
       "      <td>65.00</td>\n",
       "      <td>61.00</td>\n",
       "      <td>37.00</td>\n",
       "      <td>47.00</td>\n",
       "      <td>57.00</td>\n",
       "      <td>54.0</td>\n",
       "      <td>32.00</td>\n",
       "      <td>42.00</td>\n",
       "      <td>47.0</td>\n",
       "      <td>42.00</td>\n",
       "      <td>48.00</td>\n",
       "      <td>53.00</td>\n",
       "      <td>50.00</td>\n",
       "      <td>49.00</td>\n",
       "      <td>63.00</td>\n",
       "      <td>102.00</td>\n",
       "      <td>127.00</td>\n",
       "      <td>125.00</td>\n",
       "      <td>113.00</td>\n",
       "      <td>152.0</td>\n",
       "      <td>100.00</td>\n",
       "      <td>2019-01-01</td>\n",
       "      <td>Moratalaz</td>\n",
       "    </tr>\n",
       "    <tr>\n",
       "      <th>2</th>\n",
       "      <td>36</td>\n",
       "      <td>NO(µg/m^3)</td>\n",
       "      <td>28079036_7_8</td>\n",
       "      <td>2019</td>\n",
       "      <td>1</td>\n",
       "      <td>1</td>\n",
       "      <td>28.00</td>\n",
       "      <td>68.0</td>\n",
       "      <td>68.00</td>\n",
       "      <td>38.00</td>\n",
       "      <td>27.00</td>\n",
       "      <td>9.00</td>\n",
       "      <td>24.00</td>\n",
       "      <td>29.00</td>\n",
       "      <td>27.0</td>\n",
       "      <td>8.00</td>\n",
       "      <td>22.00</td>\n",
       "      <td>25.0</td>\n",
       "      <td>18.00</td>\n",
       "      <td>24.00</td>\n",
       "      <td>31.00</td>\n",
       "      <td>18.00</td>\n",
       "      <td>12.00</td>\n",
       "      <td>11.00</td>\n",
       "      <td>72.00</td>\n",
       "      <td>143.00</td>\n",
       "      <td>160.00</td>\n",
       "      <td>162.00</td>\n",
       "      <td>280.0</td>\n",
       "      <td>101.00</td>\n",
       "      <td>2019-01-01</td>\n",
       "      <td>Moratalaz</td>\n",
       "    </tr>\n",
       "    <tr>\n",
       "      <th>3</th>\n",
       "      <td>56</td>\n",
       "      <td>NO(µg/m^3)</td>\n",
       "      <td>28079056_7_8</td>\n",
       "      <td>2019</td>\n",
       "      <td>1</td>\n",
       "      <td>1</td>\n",
       "      <td>81.00</td>\n",
       "      <td>124.0</td>\n",
       "      <td>93.00</td>\n",
       "      <td>86.00</td>\n",
       "      <td>79.00</td>\n",
       "      <td>67.00</td>\n",
       "      <td>70.00</td>\n",
       "      <td>57.00</td>\n",
       "      <td>62.0</td>\n",
       "      <td>59.00</td>\n",
       "      <td>57.00</td>\n",
       "      <td>40.0</td>\n",
       "      <td>31.00</td>\n",
       "      <td>23.00</td>\n",
       "      <td>24.00</td>\n",
       "      <td>21.00</td>\n",
       "      <td>21.00</td>\n",
       "      <td>134.00</td>\n",
       "      <td>199.00</td>\n",
       "      <td>435.00</td>\n",
       "      <td>200.00</td>\n",
       "      <td>169.00</td>\n",
       "      <td>122.0</td>\n",
       "      <td>90.00</td>\n",
       "      <td>2019-01-01</td>\n",
       "      <td>Plaza Eliptica</td>\n",
       "    </tr>\n",
       "    <tr>\n",
       "      <th>4</th>\n",
       "      <td>36</td>\n",
       "      <td>CO(µg/m^3)</td>\n",
       "      <td>28079036_6_48</td>\n",
       "      <td>2019</td>\n",
       "      <td>1</td>\n",
       "      <td>1</td>\n",
       "      <td>0.50</td>\n",
       "      <td>0.6</td>\n",
       "      <td>0.50</td>\n",
       "      <td>0.40</td>\n",
       "      <td>0.40</td>\n",
       "      <td>0.30</td>\n",
       "      <td>0.40</td>\n",
       "      <td>0.40</td>\n",
       "      <td>0.5</td>\n",
       "      <td>0.60</td>\n",
       "      <td>0.30</td>\n",
       "      <td>0.4</td>\n",
       "      <td>0.50</td>\n",
       "      <td>0.40</td>\n",
       "      <td>0.40</td>\n",
       "      <td>0.30</td>\n",
       "      <td>0.40</td>\n",
       "      <td>0.40</td>\n",
       "      <td>0.70</td>\n",
       "      <td>1.10</td>\n",
       "      <td>1.10</td>\n",
       "      <td>1.30</td>\n",
       "      <td>1.8</td>\n",
       "      <td>0.90</td>\n",
       "      <td>2019-01-01</td>\n",
       "      <td>Moratalaz</td>\n",
       "    </tr>\n",
       "    <tr>\n",
       "      <th>5</th>\n",
       "      <td>8</td>\n",
       "      <td>NO_2(µg/m^3)</td>\n",
       "      <td>28079008_8_8</td>\n",
       "      <td>2019</td>\n",
       "      <td>1</td>\n",
       "      <td>1</td>\n",
       "      <td>79.00</td>\n",
       "      <td>76.0</td>\n",
       "      <td>85.00</td>\n",
       "      <td>81.00</td>\n",
       "      <td>68.00</td>\n",
       "      <td>50.00</td>\n",
       "      <td>55.00</td>\n",
       "      <td>56.00</td>\n",
       "      <td>58.0</td>\n",
       "      <td>51.00</td>\n",
       "      <td>41.00</td>\n",
       "      <td>43.0</td>\n",
       "      <td>45.00</td>\n",
       "      <td>59.00</td>\n",
       "      <td>56.00</td>\n",
       "      <td>57.00</td>\n",
       "      <td>61.00</td>\n",
       "      <td>72.00</td>\n",
       "      <td>88.00</td>\n",
       "      <td>99.00</td>\n",
       "      <td>103.00</td>\n",
       "      <td>103.00</td>\n",
       "      <td>135.0</td>\n",
       "      <td>110.00</td>\n",
       "      <td>2019-01-01</td>\n",
       "      <td>Escuelas Aguirre</td>\n",
       "    </tr>\n",
       "    <tr>\n",
       "      <th>6</th>\n",
       "      <td>36</td>\n",
       "      <td>SO_2(µg/m^3)</td>\n",
       "      <td>28079036_1_38</td>\n",
       "      <td>2019</td>\n",
       "      <td>1</td>\n",
       "      <td>1</td>\n",
       "      <td>16.00</td>\n",
       "      <td>9.0</td>\n",
       "      <td>6.00</td>\n",
       "      <td>6.00</td>\n",
       "      <td>4.00</td>\n",
       "      <td>4.00</td>\n",
       "      <td>6.00</td>\n",
       "      <td>4.00</td>\n",
       "      <td>9.0</td>\n",
       "      <td>22.00</td>\n",
       "      <td>6.00</td>\n",
       "      <td>12.0</td>\n",
       "      <td>27.00</td>\n",
       "      <td>19.00</td>\n",
       "      <td>8.00</td>\n",
       "      <td>11.00</td>\n",
       "      <td>19.00</td>\n",
       "      <td>7.00</td>\n",
       "      <td>9.00</td>\n",
       "      <td>11.00</td>\n",
       "      <td>13.00</td>\n",
       "      <td>22.00</td>\n",
       "      <td>12.0</td>\n",
       "      <td>10.00</td>\n",
       "      <td>2019-01-01</td>\n",
       "      <td>Moratalaz</td>\n",
       "    </tr>\n",
       "    <tr>\n",
       "      <th>7</th>\n",
       "      <td>35</td>\n",
       "      <td>O_3(µg/m^3)</td>\n",
       "      <td>28079035_14_6</td>\n",
       "      <td>2019</td>\n",
       "      <td>1</td>\n",
       "      <td>1</td>\n",
       "      <td>6.88</td>\n",
       "      <td>7.0</td>\n",
       "      <td>6.55</td>\n",
       "      <td>6.89</td>\n",
       "      <td>7.04</td>\n",
       "      <td>6.72</td>\n",
       "      <td>6.91</td>\n",
       "      <td>6.87</td>\n",
       "      <td>6.8</td>\n",
       "      <td>7.49</td>\n",
       "      <td>9.24</td>\n",
       "      <td>12.5</td>\n",
       "      <td>17.82</td>\n",
       "      <td>25.09</td>\n",
       "      <td>33.89</td>\n",
       "      <td>35.48</td>\n",
       "      <td>30.34</td>\n",
       "      <td>22.23</td>\n",
       "      <td>9.41</td>\n",
       "      <td>7.63</td>\n",
       "      <td>7.02</td>\n",
       "      <td>7.22</td>\n",
       "      <td>7.1</td>\n",
       "      <td>6.87</td>\n",
       "      <td>2019-01-01</td>\n",
       "      <td>Plaza del Carmen</td>\n",
       "    </tr>\n",
       "    <tr>\n",
       "      <th>8</th>\n",
       "      <td>56</td>\n",
       "      <td>NO_2(µg/m^3)</td>\n",
       "      <td>28079056_8_8</td>\n",
       "      <td>2019</td>\n",
       "      <td>1</td>\n",
       "      <td>1</td>\n",
       "      <td>73.00</td>\n",
       "      <td>82.0</td>\n",
       "      <td>72.00</td>\n",
       "      <td>66.00</td>\n",
       "      <td>64.00</td>\n",
       "      <td>56.00</td>\n",
       "      <td>56.00</td>\n",
       "      <td>52.00</td>\n",
       "      <td>49.0</td>\n",
       "      <td>46.00</td>\n",
       "      <td>48.00</td>\n",
       "      <td>47.0</td>\n",
       "      <td>42.00</td>\n",
       "      <td>38.00</td>\n",
       "      <td>42.00</td>\n",
       "      <td>44.00</td>\n",
       "      <td>50.00</td>\n",
       "      <td>104.00</td>\n",
       "      <td>129.00</td>\n",
       "      <td>201.00</td>\n",
       "      <td>135.00</td>\n",
       "      <td>118.00</td>\n",
       "      <td>96.0</td>\n",
       "      <td>77.00</td>\n",
       "      <td>2019-01-01</td>\n",
       "      <td>Plaza Eliptica</td>\n",
       "    </tr>\n",
       "    <tr>\n",
       "      <th>9</th>\n",
       "      <td>35</td>\n",
       "      <td>NOx(µg/m^3)</td>\n",
       "      <td>28079035_12_8</td>\n",
       "      <td>2019</td>\n",
       "      <td>1</td>\n",
       "      <td>1</td>\n",
       "      <td>230.00</td>\n",
       "      <td>236.0</td>\n",
       "      <td>264.00</td>\n",
       "      <td>339.00</td>\n",
       "      <td>276.00</td>\n",
       "      <td>199.00</td>\n",
       "      <td>203.00</td>\n",
       "      <td>165.00</td>\n",
       "      <td>170.0</td>\n",
       "      <td>170.00</td>\n",
       "      <td>137.00</td>\n",
       "      <td>143.0</td>\n",
       "      <td>139.00</td>\n",
       "      <td>107.00</td>\n",
       "      <td>80.00</td>\n",
       "      <td>73.00</td>\n",
       "      <td>77.00</td>\n",
       "      <td>80.00</td>\n",
       "      <td>111.00</td>\n",
       "      <td>178.00</td>\n",
       "      <td>180.00</td>\n",
       "      <td>298.00</td>\n",
       "      <td>385.0</td>\n",
       "      <td>290.00</td>\n",
       "      <td>2019-01-01</td>\n",
       "      <td>Plaza del Carmen</td>\n",
       "    </tr>\n",
       "  </tbody>\n",
       "</table>\n",
       "</div>"
      ],
      "text/plain": [
       "   ESTACION      MAGNITUD PUNTO_MUESTREO  ...     H24      FECHA             CALLE\n",
       "0         4  SO_2(µg/m^3)  28079004_1_38  ...   16.00 2019-01-01   Plaza de Espana\n",
       "1        36  NO_2(µg/m^3)   28079036_8_8  ...  100.00 2019-01-01         Moratalaz\n",
       "2        36    NO(µg/m^3)   28079036_7_8  ...  101.00 2019-01-01         Moratalaz\n",
       "3        56    NO(µg/m^3)   28079056_7_8  ...   90.00 2019-01-01    Plaza Eliptica\n",
       "4        36    CO(µg/m^3)  28079036_6_48  ...    0.90 2019-01-01         Moratalaz\n",
       "5         8  NO_2(µg/m^3)   28079008_8_8  ...  110.00 2019-01-01  Escuelas Aguirre\n",
       "6        36  SO_2(µg/m^3)  28079036_1_38  ...   10.00 2019-01-01         Moratalaz\n",
       "7        35   O_3(µg/m^3)  28079035_14_6  ...    6.87 2019-01-01  Plaza del Carmen\n",
       "8        56  NO_2(µg/m^3)   28079056_8_8  ...   77.00 2019-01-01    Plaza Eliptica\n",
       "9        35   NOx(µg/m^3)  28079035_12_8  ...  290.00 2019-01-01  Plaza del Carmen\n",
       "\n",
       "[10 rows x 32 columns]"
      ]
     },
     "metadata": {},
     "execution_count": 23
    }
   ]
  },
  {
   "cell_type": "markdown",
   "metadata": {
    "id": "GXZJqRkbEvA_"
   },
   "source": [
    "### Add MEDIDA column\n"
   ]
  },
  {
   "cell_type": "code",
   "metadata": {
    "id": "MAgKrRorr6y5"
   },
   "source": [
    "df1[\"MEDIDA\"] = df1[\"PUNTO_MUESTREO\"] + df1[\"FECHA\"].dt.strftime(\"_%y_%m_%d\")\n",
    "df2[\"MEDIDA\"] = df2[\"PUNTO_MUESTREO\"] + df2[\"FECHA\"].dt.strftime(\"_%y_%m_%d\")"
   ],
   "execution_count": 24,
   "outputs": []
  },
  {
   "cell_type": "code",
   "metadata": {
    "colab": {
     "base_uri": "https://localhost:8080/",
     "height": 313
    },
    "id": "pt6V_LUnKoDU",
    "outputId": "504d0dfc-38de-4f44-e9af-d85f645c1522"
   },
   "source": [
    "df1.head()"
   ],
   "execution_count": 25,
   "outputs": [
    {
     "output_type": "execute_result",
     "data": {
      "text/html": [
       "<div>\n",
       "<style scoped>\n",
       "    .dataframe tbody tr th:only-of-type {\n",
       "        vertical-align: middle;\n",
       "    }\n",
       "\n",
       "    .dataframe tbody tr th {\n",
       "        vertical-align: top;\n",
       "    }\n",
       "\n",
       "    .dataframe thead th {\n",
       "        text-align: right;\n",
       "    }\n",
       "</style>\n",
       "<table border=\"1\" class=\"dataframe\">\n",
       "  <thead>\n",
       "    <tr style=\"text-align: right;\">\n",
       "      <th></th>\n",
       "      <th>ESTACION</th>\n",
       "      <th>MAGNITUD</th>\n",
       "      <th>PUNTO_MUESTREO</th>\n",
       "      <th>ANO</th>\n",
       "      <th>MES</th>\n",
       "      <th>DIA</th>\n",
       "      <th>H01</th>\n",
       "      <th>H02</th>\n",
       "      <th>H03</th>\n",
       "      <th>H04</th>\n",
       "      <th>H05</th>\n",
       "      <th>H06</th>\n",
       "      <th>H07</th>\n",
       "      <th>H08</th>\n",
       "      <th>H09</th>\n",
       "      <th>H10</th>\n",
       "      <th>H11</th>\n",
       "      <th>H12</th>\n",
       "      <th>H13</th>\n",
       "      <th>H14</th>\n",
       "      <th>H15</th>\n",
       "      <th>H16</th>\n",
       "      <th>H17</th>\n",
       "      <th>H18</th>\n",
       "      <th>H19</th>\n",
       "      <th>H20</th>\n",
       "      <th>H21</th>\n",
       "      <th>H22</th>\n",
       "      <th>H23</th>\n",
       "      <th>H24</th>\n",
       "      <th>FECHA</th>\n",
       "      <th>CALLE</th>\n",
       "      <th>MEDIDA</th>\n",
       "    </tr>\n",
       "  </thead>\n",
       "  <tbody>\n",
       "    <tr>\n",
       "      <th>0</th>\n",
       "      <td>4</td>\n",
       "      <td>SO_2(µg/m^3)</td>\n",
       "      <td>28079004_1_38</td>\n",
       "      <td>2019</td>\n",
       "      <td>1</td>\n",
       "      <td>1</td>\n",
       "      <td>23.0</td>\n",
       "      <td>17.0</td>\n",
       "      <td>19.0</td>\n",
       "      <td>14.0</td>\n",
       "      <td>13.0</td>\n",
       "      <td>12.0</td>\n",
       "      <td>11.0</td>\n",
       "      <td>12.0</td>\n",
       "      <td>11.0</td>\n",
       "      <td>12.0</td>\n",
       "      <td>16.0</td>\n",
       "      <td>25.0</td>\n",
       "      <td>23.0</td>\n",
       "      <td>22.0</td>\n",
       "      <td>19.0</td>\n",
       "      <td>18.0</td>\n",
       "      <td>17.0</td>\n",
       "      <td>18.0</td>\n",
       "      <td>23.0</td>\n",
       "      <td>28.0</td>\n",
       "      <td>26.0</td>\n",
       "      <td>24.0</td>\n",
       "      <td>19.0</td>\n",
       "      <td>16.0</td>\n",
       "      <td>2019-01-01</td>\n",
       "      <td>Plaza de Espana</td>\n",
       "      <td>28079004_1_38_19_01_01</td>\n",
       "    </tr>\n",
       "    <tr>\n",
       "      <th>1</th>\n",
       "      <td>36</td>\n",
       "      <td>NO_2(µg/m^3)</td>\n",
       "      <td>28079036_8_8</td>\n",
       "      <td>2019</td>\n",
       "      <td>1</td>\n",
       "      <td>1</td>\n",
       "      <td>64.0</td>\n",
       "      <td>73.0</td>\n",
       "      <td>73.0</td>\n",
       "      <td>65.0</td>\n",
       "      <td>61.0</td>\n",
       "      <td>37.0</td>\n",
       "      <td>47.0</td>\n",
       "      <td>57.0</td>\n",
       "      <td>54.0</td>\n",
       "      <td>32.0</td>\n",
       "      <td>42.0</td>\n",
       "      <td>47.0</td>\n",
       "      <td>42.0</td>\n",
       "      <td>48.0</td>\n",
       "      <td>53.0</td>\n",
       "      <td>50.0</td>\n",
       "      <td>49.0</td>\n",
       "      <td>63.0</td>\n",
       "      <td>102.0</td>\n",
       "      <td>127.0</td>\n",
       "      <td>125.0</td>\n",
       "      <td>113.0</td>\n",
       "      <td>152.0</td>\n",
       "      <td>100.0</td>\n",
       "      <td>2019-01-01</td>\n",
       "      <td>Moratalaz</td>\n",
       "      <td>28079036_8_8_19_01_01</td>\n",
       "    </tr>\n",
       "    <tr>\n",
       "      <th>2</th>\n",
       "      <td>36</td>\n",
       "      <td>NO(µg/m^3)</td>\n",
       "      <td>28079036_7_8</td>\n",
       "      <td>2019</td>\n",
       "      <td>1</td>\n",
       "      <td>1</td>\n",
       "      <td>28.0</td>\n",
       "      <td>68.0</td>\n",
       "      <td>68.0</td>\n",
       "      <td>38.0</td>\n",
       "      <td>27.0</td>\n",
       "      <td>9.0</td>\n",
       "      <td>24.0</td>\n",
       "      <td>29.0</td>\n",
       "      <td>27.0</td>\n",
       "      <td>8.0</td>\n",
       "      <td>22.0</td>\n",
       "      <td>25.0</td>\n",
       "      <td>18.0</td>\n",
       "      <td>24.0</td>\n",
       "      <td>31.0</td>\n",
       "      <td>18.0</td>\n",
       "      <td>12.0</td>\n",
       "      <td>11.0</td>\n",
       "      <td>72.0</td>\n",
       "      <td>143.0</td>\n",
       "      <td>160.0</td>\n",
       "      <td>162.0</td>\n",
       "      <td>280.0</td>\n",
       "      <td>101.0</td>\n",
       "      <td>2019-01-01</td>\n",
       "      <td>Moratalaz</td>\n",
       "      <td>28079036_7_8_19_01_01</td>\n",
       "    </tr>\n",
       "    <tr>\n",
       "      <th>3</th>\n",
       "      <td>56</td>\n",
       "      <td>NO(µg/m^3)</td>\n",
       "      <td>28079056_7_8</td>\n",
       "      <td>2019</td>\n",
       "      <td>1</td>\n",
       "      <td>1</td>\n",
       "      <td>81.0</td>\n",
       "      <td>124.0</td>\n",
       "      <td>93.0</td>\n",
       "      <td>86.0</td>\n",
       "      <td>79.0</td>\n",
       "      <td>67.0</td>\n",
       "      <td>70.0</td>\n",
       "      <td>57.0</td>\n",
       "      <td>62.0</td>\n",
       "      <td>59.0</td>\n",
       "      <td>57.0</td>\n",
       "      <td>40.0</td>\n",
       "      <td>31.0</td>\n",
       "      <td>23.0</td>\n",
       "      <td>24.0</td>\n",
       "      <td>21.0</td>\n",
       "      <td>21.0</td>\n",
       "      <td>134.0</td>\n",
       "      <td>199.0</td>\n",
       "      <td>435.0</td>\n",
       "      <td>200.0</td>\n",
       "      <td>169.0</td>\n",
       "      <td>122.0</td>\n",
       "      <td>90.0</td>\n",
       "      <td>2019-01-01</td>\n",
       "      <td>Plaza Eliptica</td>\n",
       "      <td>28079056_7_8_19_01_01</td>\n",
       "    </tr>\n",
       "    <tr>\n",
       "      <th>4</th>\n",
       "      <td>36</td>\n",
       "      <td>CO(µg/m^3)</td>\n",
       "      <td>28079036_6_48</td>\n",
       "      <td>2019</td>\n",
       "      <td>1</td>\n",
       "      <td>1</td>\n",
       "      <td>0.5</td>\n",
       "      <td>0.6</td>\n",
       "      <td>0.5</td>\n",
       "      <td>0.4</td>\n",
       "      <td>0.4</td>\n",
       "      <td>0.3</td>\n",
       "      <td>0.4</td>\n",
       "      <td>0.4</td>\n",
       "      <td>0.5</td>\n",
       "      <td>0.6</td>\n",
       "      <td>0.3</td>\n",
       "      <td>0.4</td>\n",
       "      <td>0.5</td>\n",
       "      <td>0.4</td>\n",
       "      <td>0.4</td>\n",
       "      <td>0.3</td>\n",
       "      <td>0.4</td>\n",
       "      <td>0.4</td>\n",
       "      <td>0.7</td>\n",
       "      <td>1.1</td>\n",
       "      <td>1.1</td>\n",
       "      <td>1.3</td>\n",
       "      <td>1.8</td>\n",
       "      <td>0.9</td>\n",
       "      <td>2019-01-01</td>\n",
       "      <td>Moratalaz</td>\n",
       "      <td>28079036_6_48_19_01_01</td>\n",
       "    </tr>\n",
       "  </tbody>\n",
       "</table>\n",
       "</div>"
      ],
      "text/plain": [
       "   ESTACION      MAGNITUD  ...            CALLE                  MEDIDA\n",
       "0         4  SO_2(µg/m^3)  ...  Plaza de Espana  28079004_1_38_19_01_01\n",
       "1        36  NO_2(µg/m^3)  ...        Moratalaz   28079036_8_8_19_01_01\n",
       "2        36    NO(µg/m^3)  ...        Moratalaz   28079036_7_8_19_01_01\n",
       "3        56    NO(µg/m^3)  ...   Plaza Eliptica   28079056_7_8_19_01_01\n",
       "4        36    CO(µg/m^3)  ...        Moratalaz  28079036_6_48_19_01_01\n",
       "\n",
       "[5 rows x 33 columns]"
      ]
     },
     "metadata": {},
     "execution_count": 25
    }
   ]
  },
  {
   "cell_type": "markdown",
   "metadata": {
    "id": "1xanNV5qVcTX"
   },
   "source": [
    "### Add mean_value column (mean of the day)"
   ]
  },
  {
   "cell_type": "code",
   "metadata": {
    "id": "FmIHTJOZVb20"
   },
   "source": [
    "df1[\"meanValue\"] = df1.loc[:,\"H01\": \"H24\"].mean(axis=1)\n",
    "df2[\"meanValue\"] = df1.loc[:,\"H01\": \"H24\"].mean(axis=1)"
   ],
   "execution_count": 26,
   "outputs": []
  },
  {
   "cell_type": "markdown",
   "metadata": {
    "id": "kMJmo2gZrIH1"
   },
   "source": [
    "### Add max_value and min_value columns"
   ]
  },
  {
   "cell_type": "code",
   "metadata": {
    "id": "qnHSYOS5rGzN"
   },
   "source": [
    "df1[\"maxValue\"] = df1.loc[:,\"H01\": \"H24\"].max(axis=1)\n",
    "df2[\"maxValue\"] = df1.loc[:,\"H01\": \"H24\"].max(axis=1)\n",
    "df1[\"minValue\"] = df1.loc[:,\"H01\": \"H24\"].min(axis=1)\n",
    "df2[\"minValue\"] = df1.loc[:,\"H01\": \"H24\"].min(axis=1)"
   ],
   "execution_count": 27,
   "outputs": []
  },
  {
   "cell_type": "code",
   "metadata": {
    "colab": {
     "base_uri": "https://localhost:8080/",
     "height": 313
    },
    "id": "A358j1pNJMNC",
    "outputId": "8dbf97ce-9283-4173-a3bf-53cbe278ddcc"
   },
   "source": [
    "df2.head()"
   ],
   "execution_count": 28,
   "outputs": [
    {
     "output_type": "execute_result",
     "data": {
      "text/html": [
       "<div>\n",
       "<style scoped>\n",
       "    .dataframe tbody tr th:only-of-type {\n",
       "        vertical-align: middle;\n",
       "    }\n",
       "\n",
       "    .dataframe tbody tr th {\n",
       "        vertical-align: top;\n",
       "    }\n",
       "\n",
       "    .dataframe thead th {\n",
       "        text-align: right;\n",
       "    }\n",
       "</style>\n",
       "<table border=\"1\" class=\"dataframe\">\n",
       "  <thead>\n",
       "    <tr style=\"text-align: right;\">\n",
       "      <th></th>\n",
       "      <th>ESTACION</th>\n",
       "      <th>MAGNITUD</th>\n",
       "      <th>PUNTO_MUESTREO</th>\n",
       "      <th>ANO</th>\n",
       "      <th>MES</th>\n",
       "      <th>DIA</th>\n",
       "      <th>H01</th>\n",
       "      <th>H02</th>\n",
       "      <th>H03</th>\n",
       "      <th>H04</th>\n",
       "      <th>H05</th>\n",
       "      <th>H06</th>\n",
       "      <th>H07</th>\n",
       "      <th>H08</th>\n",
       "      <th>H09</th>\n",
       "      <th>H10</th>\n",
       "      <th>H11</th>\n",
       "      <th>H12</th>\n",
       "      <th>H13</th>\n",
       "      <th>H14</th>\n",
       "      <th>H15</th>\n",
       "      <th>H16</th>\n",
       "      <th>H17</th>\n",
       "      <th>H18</th>\n",
       "      <th>H19</th>\n",
       "      <th>H20</th>\n",
       "      <th>H21</th>\n",
       "      <th>H22</th>\n",
       "      <th>H23</th>\n",
       "      <th>H24</th>\n",
       "      <th>FECHA</th>\n",
       "      <th>CALLE</th>\n",
       "      <th>MEDIDA</th>\n",
       "      <th>meanValue</th>\n",
       "      <th>maxValue</th>\n",
       "      <th>minValue</th>\n",
       "    </tr>\n",
       "  </thead>\n",
       "  <tbody>\n",
       "    <tr>\n",
       "      <th>0</th>\n",
       "      <td>102</td>\n",
       "      <td>Temperature(ºC)</td>\n",
       "      <td>28079102_83_98</td>\n",
       "      <td>2019</td>\n",
       "      <td>1</td>\n",
       "      <td>1</td>\n",
       "      <td>3.1</td>\n",
       "      <td>2.9</td>\n",
       "      <td>3.1</td>\n",
       "      <td>1.9</td>\n",
       "      <td>0.7</td>\n",
       "      <td>0.5</td>\n",
       "      <td>0.0</td>\n",
       "      <td>-0.8</td>\n",
       "      <td>0.0</td>\n",
       "      <td>2.2</td>\n",
       "      <td>3.1</td>\n",
       "      <td>5.5</td>\n",
       "      <td>7.8</td>\n",
       "      <td>10.1</td>\n",
       "      <td>10.4</td>\n",
       "      <td>11.9</td>\n",
       "      <td>10.1</td>\n",
       "      <td>8.5</td>\n",
       "      <td>7.7</td>\n",
       "      <td>7.1</td>\n",
       "      <td>6.6</td>\n",
       "      <td>5.8</td>\n",
       "      <td>4.1</td>\n",
       "      <td>3.4</td>\n",
       "      <td>2019-01-01</td>\n",
       "      <td>JMD Moratalaz</td>\n",
       "      <td>28079102_83_98_19_01_01</td>\n",
       "      <td>18.250000</td>\n",
       "      <td>28.0</td>\n",
       "      <td>11.0</td>\n",
       "    </tr>\n",
       "    <tr>\n",
       "      <th>1</th>\n",
       "      <td>58</td>\n",
       "      <td>Temperature(ºC)</td>\n",
       "      <td>28079058_83_98</td>\n",
       "      <td>2019</td>\n",
       "      <td>1</td>\n",
       "      <td>1</td>\n",
       "      <td>-1.7</td>\n",
       "      <td>-2.2</td>\n",
       "      <td>-2.5</td>\n",
       "      <td>-2.8</td>\n",
       "      <td>-3.3</td>\n",
       "      <td>-3.5</td>\n",
       "      <td>-4.0</td>\n",
       "      <td>-4.4</td>\n",
       "      <td>-4.5</td>\n",
       "      <td>-2.0</td>\n",
       "      <td>-0.4</td>\n",
       "      <td>3.2</td>\n",
       "      <td>9.4</td>\n",
       "      <td>13.6</td>\n",
       "      <td>13.4</td>\n",
       "      <td>14.0</td>\n",
       "      <td>14.5</td>\n",
       "      <td>14.0</td>\n",
       "      <td>7.0</td>\n",
       "      <td>3.4</td>\n",
       "      <td>1.3</td>\n",
       "      <td>-0.1</td>\n",
       "      <td>-1.2</td>\n",
       "      <td>-1.8</td>\n",
       "      <td>2019-01-01</td>\n",
       "      <td>El Pardo</td>\n",
       "      <td>28079058_83_98_19_01_01</td>\n",
       "      <td>69.833333</td>\n",
       "      <td>152.0</td>\n",
       "      <td>32.0</td>\n",
       "    </tr>\n",
       "    <tr>\n",
       "      <th>2</th>\n",
       "      <td>103</td>\n",
       "      <td>Precipitation(l/m^2)</td>\n",
       "      <td>28079103_89_98</td>\n",
       "      <td>2019</td>\n",
       "      <td>1</td>\n",
       "      <td>1</td>\n",
       "      <td>0.0</td>\n",
       "      <td>0.0</td>\n",
       "      <td>0.0</td>\n",
       "      <td>0.0</td>\n",
       "      <td>0.0</td>\n",
       "      <td>0.0</td>\n",
       "      <td>0.0</td>\n",
       "      <td>0.0</td>\n",
       "      <td>0.0</td>\n",
       "      <td>0.0</td>\n",
       "      <td>0.0</td>\n",
       "      <td>0.0</td>\n",
       "      <td>0.0</td>\n",
       "      <td>0.0</td>\n",
       "      <td>0.0</td>\n",
       "      <td>0.0</td>\n",
       "      <td>0.0</td>\n",
       "      <td>0.0</td>\n",
       "      <td>0.0</td>\n",
       "      <td>0.0</td>\n",
       "      <td>0.0</td>\n",
       "      <td>0.0</td>\n",
       "      <td>0.0</td>\n",
       "      <td>0.0</td>\n",
       "      <td>2019-01-01</td>\n",
       "      <td>JMD Villaverde</td>\n",
       "      <td>28079103_89_98_19_01_01</td>\n",
       "      <td>58.541667</td>\n",
       "      <td>280.0</td>\n",
       "      <td>8.0</td>\n",
       "    </tr>\n",
       "    <tr>\n",
       "      <th>3</th>\n",
       "      <td>56</td>\n",
       "      <td>Precipitation(l/m^2)</td>\n",
       "      <td>28079056_89_98</td>\n",
       "      <td>2019</td>\n",
       "      <td>1</td>\n",
       "      <td>1</td>\n",
       "      <td>0.0</td>\n",
       "      <td>0.0</td>\n",
       "      <td>0.0</td>\n",
       "      <td>0.0</td>\n",
       "      <td>0.0</td>\n",
       "      <td>0.0</td>\n",
       "      <td>0.0</td>\n",
       "      <td>0.0</td>\n",
       "      <td>0.0</td>\n",
       "      <td>0.0</td>\n",
       "      <td>0.0</td>\n",
       "      <td>0.0</td>\n",
       "      <td>0.0</td>\n",
       "      <td>0.0</td>\n",
       "      <td>0.0</td>\n",
       "      <td>0.0</td>\n",
       "      <td>0.0</td>\n",
       "      <td>0.0</td>\n",
       "      <td>0.0</td>\n",
       "      <td>0.0</td>\n",
       "      <td>0.0</td>\n",
       "      <td>0.0</td>\n",
       "      <td>0.0</td>\n",
       "      <td>0.0</td>\n",
       "      <td>2019-01-01</td>\n",
       "      <td>Plaza Eliptica</td>\n",
       "      <td>28079056_89_98_19_01_01</td>\n",
       "      <td>97.666667</td>\n",
       "      <td>435.0</td>\n",
       "      <td>21.0</td>\n",
       "    </tr>\n",
       "    <tr>\n",
       "      <th>4</th>\n",
       "      <td>104</td>\n",
       "      <td>Temperature(ºC)</td>\n",
       "      <td>28079104_83_98</td>\n",
       "      <td>2019</td>\n",
       "      <td>1</td>\n",
       "      <td>1</td>\n",
       "      <td>-0.8</td>\n",
       "      <td>-1.1</td>\n",
       "      <td>-1.4</td>\n",
       "      <td>-2.0</td>\n",
       "      <td>-2.9</td>\n",
       "      <td>-3.3</td>\n",
       "      <td>-3.6</td>\n",
       "      <td>-3.7</td>\n",
       "      <td>-3.5</td>\n",
       "      <td>-0.3</td>\n",
       "      <td>4.3</td>\n",
       "      <td>8.1</td>\n",
       "      <td>8.7</td>\n",
       "      <td>10.6</td>\n",
       "      <td>12.6</td>\n",
       "      <td>12.0</td>\n",
       "      <td>11.1</td>\n",
       "      <td>9.2</td>\n",
       "      <td>4.9</td>\n",
       "      <td>3.0</td>\n",
       "      <td>2.1</td>\n",
       "      <td>0.8</td>\n",
       "      <td>0.3</td>\n",
       "      <td>-0.6</td>\n",
       "      <td>2019-01-01</td>\n",
       "      <td>EDAR La China</td>\n",
       "      <td>28079104_83_98_19_01_01</td>\n",
       "      <td>0.608333</td>\n",
       "      <td>1.8</td>\n",
       "      <td>0.3</td>\n",
       "    </tr>\n",
       "  </tbody>\n",
       "</table>\n",
       "</div>"
      ],
      "text/plain": [
       "   ESTACION              MAGNITUD  ... maxValue  minValue\n",
       "0       102       Temperature(ºC)  ...     28.0      11.0\n",
       "1        58       Temperature(ºC)  ...    152.0      32.0\n",
       "2       103  Precipitation(l/m^2)  ...    280.0       8.0\n",
       "3        56  Precipitation(l/m^2)  ...    435.0      21.0\n",
       "4       104       Temperature(ºC)  ...      1.8       0.3\n",
       "\n",
       "[5 rows x 36 columns]"
      ]
     },
     "metadata": {},
     "execution_count": 28
    }
   ]
  },
  {
   "cell_type": "markdown",
   "metadata": {
    "id": "NVpDMbGRVj4M"
   },
   "source": [
    "### Drop H columns"
   ]
  },
  {
   "cell_type": "code",
   "metadata": {
    "id": "LxSHOhKOVp9n"
   },
   "source": [
    "df1.drop(['H01', 'H02', 'H03', 'H04', 'H05', 'H06', 'H07', 'H08', 'H09', 'H10', 'H11', 'H12', \n",
    "          'H13', 'H14',\t'H15', 'H16', 'H17', 'H18',\t'H19', 'H20', 'H21', 'H22', 'H23', 'H24'], axis=1, inplace=True)\n",
    "df2.drop(['H01', 'H02', 'H03', 'H04', 'H05', 'H06', 'H07', 'H08', 'H09', 'H10', 'H11', 'H12', \n",
    "          'H13', 'H14',\t'H15', 'H16', 'H17', 'H18',\t'H19', 'H20', 'H21', 'H22', 'H23', 'H24'], axis=1, inplace=True)"
   ],
   "execution_count": 29,
   "outputs": []
  },
  {
   "cell_type": "markdown",
   "metadata": {
    "id": "BwqJCFXIPJf0"
   },
   "source": [
    "### Drop PUNTO_MUESTREO column"
   ]
  },
  {
   "cell_type": "code",
   "metadata": {
    "id": "vxtdO4RRPN1_"
   },
   "source": [
    "del df1[\"PUNTO_MUESTREO\"]\n",
    "del df2[\"PUNTO_MUESTREO\"]"
   ],
   "execution_count": 30,
   "outputs": []
  },
  {
   "cell_type": "markdown",
   "metadata": {
    "id": "u_JDwzmOqdvv"
   },
   "source": [
    "### Renaming columns"
   ]
  },
  {
   "cell_type": "code",
   "metadata": {
    "id": "mbPOyVRk0uy_"
   },
   "source": [
    "df1.rename(columns={'ESTACION':'ControlStation','MAGNITUD':'magnitude', 'ANO':'year', 'MES':'month', 'DIA':'day', 'FECHA':'date', 'CALLE':'stationName', 'MEDIDA':'Measurement'},inplace=True)"
   ],
   "execution_count": 31,
   "outputs": []
  },
  {
   "cell_type": "code",
   "metadata": {
    "id": "JnCerx3NJf2C"
   },
   "source": [
    "df2.rename(columns={'ESTACION':'ControlStation','MAGNITUD':'magnitude', 'ANO':'year', 'MES':'month', 'DIA':'day', 'FECHA':'date', 'CALLE':'stationName', 'MEDIDA':'Measurement'},inplace=True)"
   ],
   "execution_count": 32,
   "outputs": []
  },
  {
   "cell_type": "markdown",
   "metadata": {
    "id": "RRZs0hoIdaRD"
   },
   "source": [
    "### Adding unit column"
   ]
  },
  {
   "cell_type": "code",
   "metadata": {
    "id": "01ujWd90dZ5R"
   },
   "source": [
    "df1[\"unit\"] = df1.magnitude.str.extract(\"\\((.+)\\)\")\n",
    "df2[\"unit\"] = df2.magnitude.str.extract(\"\\((.+)\\)\")"
   ],
   "execution_count": 33,
   "outputs": []
  },
  {
   "cell_type": "code",
   "metadata": {
    "id": "Ij8zhzrLie4-"
   },
   "source": [
    "df1.magnitude = df1.magnitude.str.replace(r\"\\(.+\\)\", \"\")\n",
    "df2.magnitude = df2.magnitude.str.replace(r\"\\(.+\\)\", \"\")"
   ],
   "execution_count": 34,
   "outputs": []
  },
  {
   "cell_type": "markdown",
   "metadata": {
    "id": "Ja64t9hNmiWJ"
   },
   "source": [
    "### Adding location_type column"
   ]
  },
  {
   "cell_type": "code",
   "metadata": {
    "id": "styiUKnsmhwY"
   },
   "source": [
    "def add_location_type(x: str):\n",
    "\n",
    "    BUILDING = \"Building\"\n",
    "    PARK = \"Park\"\n",
    "    NEIGHBORHOOD = \"Neighborhood\"\n",
    "    PLAZA = \"Plaza\"\n",
    "    \n",
    "    mapper = defaultdict(lambda: NEIGHBORHOOD)\n",
    "\n",
    "    if \"JMD\" in x or \"Matadero\" in x:\n",
    "        return BUILDING\n",
    "    \n",
    "    if \"Plaza\" in x:\n",
    "        return PLAZA\n",
    "\n",
    "    if \"Parque\" in x:\n",
    "        return PARK\n",
    "\n",
    "    mapper[\"El Pardo\"] = BUILDING\n",
    "    mapper[\"Casa de Campo\"] = PARK\n",
    "    mapper[\"EDAR La China\"] = BUILDING\n",
    "    mapper[\"Centro Municipal de Acústica\"] = BUILDING\n",
    "    mapper[\"Escuelas Aguirre\"] = BUILDING\n",
    "    mapper[\"Retiro\"] = PARK\n",
    "    mapper[\"Urbanizacion Embajada\"] = BUILDING\n",
    "\n",
    "    return mapper[x]"
   ],
   "execution_count": 35,
   "outputs": []
  },
  {
   "cell_type": "markdown",
   "metadata": {
    "id": "u7hImyUdPbw4"
   },
   "source": [
    "## Observations"
   ]
  },
  {
   "cell_type": "markdown",
   "metadata": {
    "id": "By2oMZKZGcmg"
   },
   "source": [
    "Some stations measure both air quality and meteorological data:"
   ]
  },
  {
   "cell_type": "code",
   "metadata": {
    "id": "zp0UKcWmE3KL",
    "colab": {
     "base_uri": "https://localhost:8080/"
    },
    "outputId": "1ae509bb-5116-47cc-8911-278af30995dd"
   },
   "source": [
    "set(df1.ControlStation.unique()) & set(df2.ControlStation.unique())"
   ],
   "execution_count": 36,
   "outputs": [
    {
     "output_type": "execute_result",
     "data": {
      "text/plain": [
       "{4, 8, 18, 24, 35, 36, 38, 39, 54, 56, 58, 59}"
      ]
     },
     "metadata": {},
     "execution_count": 36
    }
   ]
  },
  {
   "cell_type": "markdown",
   "metadata": {
    "id": "5isHtqyfJDCc"
   },
   "source": [
    "There \"Measurement\" column has unique values"
   ]
  },
  {
   "cell_type": "code",
   "metadata": {
    "id": "64OswgkfJCr7",
    "colab": {
     "base_uri": "https://localhost:8080/"
    },
    "outputId": "97ec6977-db91-4ea3-9b9b-de3834ed6b2e"
   },
   "source": [
    "df1.Measurement.value_counts().unique()"
   ],
   "execution_count": 37,
   "outputs": [
    {
     "output_type": "execute_result",
     "data": {
      "text/plain": [
       "array([1])"
      ]
     },
     "metadata": {},
     "execution_count": 37
    }
   ]
  },
  {
   "cell_type": "markdown",
   "metadata": {
    "id": "36VAYU6lsHyC"
   },
   "source": [
    "## Exporting data"
   ]
  },
  {
   "cell_type": "markdown",
   "metadata": {
    "id": "gxFJ88DXCLlu"
   },
   "source": [
    "### Creating an html report"
   ]
  },
  {
   "cell_type": "code",
   "metadata": {
    "id": "UhTSIlCONaJa"
   },
   "source": [
    "if create_report:\n",
    "    profile1 = ProfileReport(df1, title=\"Air Quality Data Report\")\n",
    "\n",
    "    profile1.to_file(\"air_quality_report.html\")"
   ],
   "execution_count": 38,
   "outputs": []
  },
  {
   "cell_type": "code",
   "metadata": {
    "id": "prSChzfUQvhG"
   },
   "source": [
    "if create_report:\n",
    "    profile1 = ProfileReport(df2, title=\"Meteorological Data Report\")\n",
    "\n",
    "    profile1.to_file(\"meteorological_data_report.html\")"
   ],
   "execution_count": 39,
   "outputs": []
  },
  {
   "cell_type": "markdown",
   "metadata": {
    "id": "FRaPQRNYEczc"
   },
   "source": [
    "### load dataframes into a csv file"
   ]
  },
  {
   "cell_type": "code",
   "metadata": {
    "id": "AOCzkY4UK0jB",
    "colab": {
     "base_uri": "https://localhost:8080/",
     "height": 424
    },
    "outputId": "d71153f4-d61c-457e-87bb-2b01464cef49"
   },
   "source": [
    "df1"
   ],
   "execution_count": 40,
   "outputs": [
    {
     "output_type": "execute_result",
     "data": {
      "text/html": [
       "<div>\n",
       "<style scoped>\n",
       "    .dataframe tbody tr th:only-of-type {\n",
       "        vertical-align: middle;\n",
       "    }\n",
       "\n",
       "    .dataframe tbody tr th {\n",
       "        vertical-align: top;\n",
       "    }\n",
       "\n",
       "    .dataframe thead th {\n",
       "        text-align: right;\n",
       "    }\n",
       "</style>\n",
       "<table border=\"1\" class=\"dataframe\">\n",
       "  <thead>\n",
       "    <tr style=\"text-align: right;\">\n",
       "      <th></th>\n",
       "      <th>ControlStation</th>\n",
       "      <th>magnitude</th>\n",
       "      <th>year</th>\n",
       "      <th>month</th>\n",
       "      <th>day</th>\n",
       "      <th>date</th>\n",
       "      <th>stationName</th>\n",
       "      <th>Measurement</th>\n",
       "      <th>meanValue</th>\n",
       "      <th>maxValue</th>\n",
       "      <th>minValue</th>\n",
       "      <th>unit</th>\n",
       "    </tr>\n",
       "  </thead>\n",
       "  <tbody>\n",
       "    <tr>\n",
       "      <th>0</th>\n",
       "      <td>4</td>\n",
       "      <td>SO_2</td>\n",
       "      <td>2019</td>\n",
       "      <td>1</td>\n",
       "      <td>1</td>\n",
       "      <td>2019-01-01</td>\n",
       "      <td>Plaza de Espana</td>\n",
       "      <td>28079004_1_38_19_01_01</td>\n",
       "      <td>18.250000</td>\n",
       "      <td>28.0</td>\n",
       "      <td>11.0</td>\n",
       "      <td>µg/m^3</td>\n",
       "    </tr>\n",
       "    <tr>\n",
       "      <th>1</th>\n",
       "      <td>36</td>\n",
       "      <td>NO_2</td>\n",
       "      <td>2019</td>\n",
       "      <td>1</td>\n",
       "      <td>1</td>\n",
       "      <td>2019-01-01</td>\n",
       "      <td>Moratalaz</td>\n",
       "      <td>28079036_8_8_19_01_01</td>\n",
       "      <td>69.833333</td>\n",
       "      <td>152.0</td>\n",
       "      <td>32.0</td>\n",
       "      <td>µg/m^3</td>\n",
       "    </tr>\n",
       "    <tr>\n",
       "      <th>2</th>\n",
       "      <td>36</td>\n",
       "      <td>NO</td>\n",
       "      <td>2019</td>\n",
       "      <td>1</td>\n",
       "      <td>1</td>\n",
       "      <td>2019-01-01</td>\n",
       "      <td>Moratalaz</td>\n",
       "      <td>28079036_7_8_19_01_01</td>\n",
       "      <td>58.541667</td>\n",
       "      <td>280.0</td>\n",
       "      <td>8.0</td>\n",
       "      <td>µg/m^3</td>\n",
       "    </tr>\n",
       "    <tr>\n",
       "      <th>3</th>\n",
       "      <td>56</td>\n",
       "      <td>NO</td>\n",
       "      <td>2019</td>\n",
       "      <td>1</td>\n",
       "      <td>1</td>\n",
       "      <td>2019-01-01</td>\n",
       "      <td>Plaza Eliptica</td>\n",
       "      <td>28079056_7_8_19_01_01</td>\n",
       "      <td>97.666667</td>\n",
       "      <td>435.0</td>\n",
       "      <td>21.0</td>\n",
       "      <td>µg/m^3</td>\n",
       "    </tr>\n",
       "    <tr>\n",
       "      <th>4</th>\n",
       "      <td>36</td>\n",
       "      <td>CO</td>\n",
       "      <td>2019</td>\n",
       "      <td>1</td>\n",
       "      <td>1</td>\n",
       "      <td>2019-01-01</td>\n",
       "      <td>Moratalaz</td>\n",
       "      <td>28079036_6_48_19_01_01</td>\n",
       "      <td>0.608333</td>\n",
       "      <td>1.8</td>\n",
       "      <td>0.3</td>\n",
       "      <td>µg/m^3</td>\n",
       "    </tr>\n",
       "    <tr>\n",
       "      <th>...</th>\n",
       "      <td>...</td>\n",
       "      <td>...</td>\n",
       "      <td>...</td>\n",
       "      <td>...</td>\n",
       "      <td>...</td>\n",
       "      <td>...</td>\n",
       "      <td>...</td>\n",
       "      <td>...</td>\n",
       "      <td>...</td>\n",
       "      <td>...</td>\n",
       "      <td>...</td>\n",
       "      <td>...</td>\n",
       "    </tr>\n",
       "    <tr>\n",
       "      <th>95273</th>\n",
       "      <td>38</td>\n",
       "      <td>BEN</td>\n",
       "      <td>2021</td>\n",
       "      <td>8</td>\n",
       "      <td>31</td>\n",
       "      <td>2021-08-31</td>\n",
       "      <td>Cuatro Caminos</td>\n",
       "      <td>28079038_30_59_21_08_31</td>\n",
       "      <td>0.100000</td>\n",
       "      <td>0.1</td>\n",
       "      <td>0.1</td>\n",
       "      <td>µg/m^3</td>\n",
       "    </tr>\n",
       "    <tr>\n",
       "      <th>95274</th>\n",
       "      <td>50</td>\n",
       "      <td>NO_2</td>\n",
       "      <td>2021</td>\n",
       "      <td>8</td>\n",
       "      <td>31</td>\n",
       "      <td>2021-08-31</td>\n",
       "      <td>Plaza Castilla</td>\n",
       "      <td>28079050_8_8_21_08_31</td>\n",
       "      <td>24.666667</td>\n",
       "      <td>61.0</td>\n",
       "      <td>10.0</td>\n",
       "      <td>µg/m^3</td>\n",
       "    </tr>\n",
       "    <tr>\n",
       "      <th>95275</th>\n",
       "      <td>27</td>\n",
       "      <td>NOx</td>\n",
       "      <td>2021</td>\n",
       "      <td>8</td>\n",
       "      <td>31</td>\n",
       "      <td>2021-08-31</td>\n",
       "      <td>Barajas</td>\n",
       "      <td>28079027_12_8_21_08_31</td>\n",
       "      <td>34.291667</td>\n",
       "      <td>110.0</td>\n",
       "      <td>10.0</td>\n",
       "      <td>µg/m^3</td>\n",
       "    </tr>\n",
       "    <tr>\n",
       "      <th>95276</th>\n",
       "      <td>57</td>\n",
       "      <td>NOx</td>\n",
       "      <td>2021</td>\n",
       "      <td>8</td>\n",
       "      <td>31</td>\n",
       "      <td>2021-08-31</td>\n",
       "      <td>Sanchinarro</td>\n",
       "      <td>28079057_12_8_21_08_31</td>\n",
       "      <td>20.458333</td>\n",
       "      <td>54.0</td>\n",
       "      <td>10.0</td>\n",
       "      <td>µg/m^3</td>\n",
       "    </tr>\n",
       "    <tr>\n",
       "      <th>95277</th>\n",
       "      <td>24</td>\n",
       "      <td>TOL</td>\n",
       "      <td>2021</td>\n",
       "      <td>8</td>\n",
       "      <td>31</td>\n",
       "      <td>2021-08-31</td>\n",
       "      <td>Casa de Campo</td>\n",
       "      <td>28079024_20_59_21_08_31</td>\n",
       "      <td>1.150000</td>\n",
       "      <td>3.1</td>\n",
       "      <td>0.2</td>\n",
       "      <td>µg/m^3</td>\n",
       "    </tr>\n",
       "  </tbody>\n",
       "</table>\n",
       "<p>95278 rows × 12 columns</p>\n",
       "</div>"
      ],
      "text/plain": [
       "       ControlStation magnitude  year  ...  maxValue  minValue    unit\n",
       "0                   4      SO_2  2019  ...      28.0      11.0  µg/m^3\n",
       "1                  36      NO_2  2019  ...     152.0      32.0  µg/m^3\n",
       "2                  36        NO  2019  ...     280.0       8.0  µg/m^3\n",
       "3                  56        NO  2019  ...     435.0      21.0  µg/m^3\n",
       "4                  36        CO  2019  ...       1.8       0.3  µg/m^3\n",
       "...               ...       ...   ...  ...       ...       ...     ...\n",
       "95273              38       BEN  2021  ...       0.1       0.1  µg/m^3\n",
       "95274              50      NO_2  2021  ...      61.0      10.0  µg/m^3\n",
       "95275              27       NOx  2021  ...     110.0      10.0  µg/m^3\n",
       "95276              57       NOx  2021  ...      54.0      10.0  µg/m^3\n",
       "95277              24       TOL  2021  ...       3.1       0.2  µg/m^3\n",
       "\n",
       "[95278 rows x 12 columns]"
      ]
     },
     "metadata": {},
     "execution_count": 40
    }
   ]
  },
  {
   "cell_type": "code",
   "metadata": {
    "id": "lcuuO8tkK25b",
    "colab": {
     "base_uri": "https://localhost:8080/",
     "height": 424
    },
    "outputId": "d4da18ca-c35f-4fca-a5af-dc83191f0e95"
   },
   "source": [
    "df2"
   ],
   "execution_count": 41,
   "outputs": [
    {
     "output_type": "execute_result",
     "data": {
      "text/html": [
       "<div>\n",
       "<style scoped>\n",
       "    .dataframe tbody tr th:only-of-type {\n",
       "        vertical-align: middle;\n",
       "    }\n",
       "\n",
       "    .dataframe tbody tr th {\n",
       "        vertical-align: top;\n",
       "    }\n",
       "\n",
       "    .dataframe thead th {\n",
       "        text-align: right;\n",
       "    }\n",
       "</style>\n",
       "<table border=\"1\" class=\"dataframe\">\n",
       "  <thead>\n",
       "    <tr style=\"text-align: right;\">\n",
       "      <th></th>\n",
       "      <th>ControlStation</th>\n",
       "      <th>magnitude</th>\n",
       "      <th>year</th>\n",
       "      <th>month</th>\n",
       "      <th>day</th>\n",
       "      <th>date</th>\n",
       "      <th>stationName</th>\n",
       "      <th>Measurement</th>\n",
       "      <th>meanValue</th>\n",
       "      <th>maxValue</th>\n",
       "      <th>minValue</th>\n",
       "      <th>unit</th>\n",
       "    </tr>\n",
       "  </thead>\n",
       "  <tbody>\n",
       "    <tr>\n",
       "      <th>0</th>\n",
       "      <td>102</td>\n",
       "      <td>Temperature</td>\n",
       "      <td>2019</td>\n",
       "      <td>1</td>\n",
       "      <td>1</td>\n",
       "      <td>2019-01-01</td>\n",
       "      <td>JMD Moratalaz</td>\n",
       "      <td>28079102_83_98_19_01_01</td>\n",
       "      <td>18.250000</td>\n",
       "      <td>28.0</td>\n",
       "      <td>11.00</td>\n",
       "      <td>ºC</td>\n",
       "    </tr>\n",
       "    <tr>\n",
       "      <th>1</th>\n",
       "      <td>58</td>\n",
       "      <td>Temperature</td>\n",
       "      <td>2019</td>\n",
       "      <td>1</td>\n",
       "      <td>1</td>\n",
       "      <td>2019-01-01</td>\n",
       "      <td>El Pardo</td>\n",
       "      <td>28079058_83_98_19_01_01</td>\n",
       "      <td>69.833333</td>\n",
       "      <td>152.0</td>\n",
       "      <td>32.00</td>\n",
       "      <td>ºC</td>\n",
       "    </tr>\n",
       "    <tr>\n",
       "      <th>2</th>\n",
       "      <td>103</td>\n",
       "      <td>Precipitation</td>\n",
       "      <td>2019</td>\n",
       "      <td>1</td>\n",
       "      <td>1</td>\n",
       "      <td>2019-01-01</td>\n",
       "      <td>JMD Villaverde</td>\n",
       "      <td>28079103_89_98_19_01_01</td>\n",
       "      <td>58.541667</td>\n",
       "      <td>280.0</td>\n",
       "      <td>8.00</td>\n",
       "      <td>l/m^2</td>\n",
       "    </tr>\n",
       "    <tr>\n",
       "      <th>3</th>\n",
       "      <td>56</td>\n",
       "      <td>Precipitation</td>\n",
       "      <td>2019</td>\n",
       "      <td>1</td>\n",
       "      <td>1</td>\n",
       "      <td>2019-01-01</td>\n",
       "      <td>Plaza Eliptica</td>\n",
       "      <td>28079056_89_98_19_01_01</td>\n",
       "      <td>97.666667</td>\n",
       "      <td>435.0</td>\n",
       "      <td>21.00</td>\n",
       "      <td>l/m^2</td>\n",
       "    </tr>\n",
       "    <tr>\n",
       "      <th>4</th>\n",
       "      <td>104</td>\n",
       "      <td>Temperature</td>\n",
       "      <td>2019</td>\n",
       "      <td>1</td>\n",
       "      <td>1</td>\n",
       "      <td>2019-01-01</td>\n",
       "      <td>EDAR La China</td>\n",
       "      <td>28079104_83_98_19_01_01</td>\n",
       "      <td>0.608333</td>\n",
       "      <td>1.8</td>\n",
       "      <td>0.30</td>\n",
       "      <td>ºC</td>\n",
       "    </tr>\n",
       "    <tr>\n",
       "      <th>...</th>\n",
       "      <td>...</td>\n",
       "      <td>...</td>\n",
       "      <td>...</td>\n",
       "      <td>...</td>\n",
       "      <td>...</td>\n",
       "      <td>...</td>\n",
       "      <td>...</td>\n",
       "      <td>...</td>\n",
       "      <td>...</td>\n",
       "      <td>...</td>\n",
       "      <td>...</td>\n",
       "      <td>...</td>\n",
       "    </tr>\n",
       "    <tr>\n",
       "      <th>30214</th>\n",
       "      <td>35</td>\n",
       "      <td>Temperature</td>\n",
       "      <td>2021</td>\n",
       "      <td>9</td>\n",
       "      <td>30</td>\n",
       "      <td>2021-09-30</td>\n",
       "      <td>Plaza del Carmen</td>\n",
       "      <td>28079035_83_98_21_09_30</td>\n",
       "      <td>9.875000</td>\n",
       "      <td>42.0</td>\n",
       "      <td>4.00</td>\n",
       "      <td>ºC</td>\n",
       "    </tr>\n",
       "    <tr>\n",
       "      <th>30215</th>\n",
       "      <td>112</td>\n",
       "      <td>Temperature</td>\n",
       "      <td>2021</td>\n",
       "      <td>9</td>\n",
       "      <td>30</td>\n",
       "      <td>2021-09-30</td>\n",
       "      <td>JMD Vallecas 1</td>\n",
       "      <td>28079112_83_98_21_09_30</td>\n",
       "      <td>0.266667</td>\n",
       "      <td>0.4</td>\n",
       "      <td>0.20</td>\n",
       "      <td>ºC</td>\n",
       "    </tr>\n",
       "    <tr>\n",
       "      <th>30216</th>\n",
       "      <td>108</td>\n",
       "      <td>Precipitation</td>\n",
       "      <td>2021</td>\n",
       "      <td>9</td>\n",
       "      <td>30</td>\n",
       "      <td>2021-09-30</td>\n",
       "      <td>Penagrande</td>\n",
       "      <td>28079108_89_98_21_09_30</td>\n",
       "      <td>10.375000</td>\n",
       "      <td>20.0</td>\n",
       "      <td>6.00</td>\n",
       "      <td>l/m^2</td>\n",
       "    </tr>\n",
       "    <tr>\n",
       "      <th>30217</th>\n",
       "      <td>39</td>\n",
       "      <td>Precipitation</td>\n",
       "      <td>2021</td>\n",
       "      <td>9</td>\n",
       "      <td>30</td>\n",
       "      <td>2021-09-30</td>\n",
       "      <td>Barrio del Pilar</td>\n",
       "      <td>28079039_89_98_21_09_30</td>\n",
       "      <td>78.738333</td>\n",
       "      <td>108.3</td>\n",
       "      <td>37.84</td>\n",
       "      <td>l/m^2</td>\n",
       "    </tr>\n",
       "    <tr>\n",
       "      <th>30218</th>\n",
       "      <td>102</td>\n",
       "      <td>Temperature</td>\n",
       "      <td>2021</td>\n",
       "      <td>9</td>\n",
       "      <td>30</td>\n",
       "      <td>2021-09-30</td>\n",
       "      <td>JMD Moratalaz</td>\n",
       "      <td>28079102_83_98_21_09_30</td>\n",
       "      <td>5.041667</td>\n",
       "      <td>19.0</td>\n",
       "      <td>1.00</td>\n",
       "      <td>ºC</td>\n",
       "    </tr>\n",
       "  </tbody>\n",
       "</table>\n",
       "<p>30219 rows × 12 columns</p>\n",
       "</div>"
      ],
      "text/plain": [
       "       ControlStation      magnitude  year  ...  maxValue  minValue   unit\n",
       "0                 102    Temperature  2019  ...      28.0     11.00     ºC\n",
       "1                  58    Temperature  2019  ...     152.0     32.00     ºC\n",
       "2                 103  Precipitation  2019  ...     280.0      8.00  l/m^2\n",
       "3                  56  Precipitation  2019  ...     435.0     21.00  l/m^2\n",
       "4                 104    Temperature  2019  ...       1.8      0.30     ºC\n",
       "...               ...            ...   ...  ...       ...       ...    ...\n",
       "30214              35    Temperature  2021  ...      42.0      4.00     ºC\n",
       "30215             112    Temperature  2021  ...       0.4      0.20     ºC\n",
       "30216             108  Precipitation  2021  ...      20.0      6.00  l/m^2\n",
       "30217              39  Precipitation  2021  ...     108.3     37.84  l/m^2\n",
       "30218             102    Temperature  2021  ...      19.0      1.00     ºC\n",
       "\n",
       "[30219 rows x 12 columns]"
      ]
     },
     "metadata": {},
     "execution_count": 41
    }
   ]
  },
  {
   "cell_type": "code",
   "metadata": {
    "id": "M_pT-LFvrZdt"
   },
   "source": [
    "if create_updated_files:\n",
    "    df1.to_csv(\"air_quality-updated.csv\", index=False)\n",
    "    df2.to_csv(\"meteorological_data-updated.csv\", index=False)"
   ],
   "execution_count": 42,
   "outputs": []
  },
  {
   "cell_type": "markdown",
   "metadata": {
    "id": "pgn5GEA_OVlT"
   },
   "source": [
    "## Plots"
   ]
  },
  {
   "cell_type": "code",
   "metadata": {
    "id": "CIHlPE8BYg7l"
   },
   "source": [
    "plt.style.use(\"bmh\")"
   ],
   "execution_count": 43,
   "outputs": []
  },
  {
   "cell_type": "code",
   "metadata": {
    "id": "EVZ4IdsPQOuv",
    "colab": {
     "base_uri": "https://localhost:8080/"
    },
    "outputId": "fc2bbade-e7a7-4cce-9370-b20b3e91331b"
   },
   "source": [
    "df1.magnitude.unique()"
   ],
   "execution_count": 44,
   "outputs": [
    {
     "output_type": "execute_result",
     "data": {
      "text/plain": [
       "array(['SO_2', 'NO_2', 'NO', 'CO', 'O_3', 'NOx', 'PM2.5', 'PM10', 'NMHC',\n",
       "       'CH_4', 'TCH', 'BEN', 'EBE', 'TOL'], dtype=object)"
      ]
     },
     "metadata": {},
     "execution_count": 44
    }
   ]
  },
  {
   "cell_type": "code",
   "metadata": {
    "id": "SQDwA2U2vBAV",
    "colab": {
     "base_uri": "https://localhost:8080/",
     "height": 35
    },
    "outputId": "326e84bf-5b5e-4137-db6c-bd90a481802b"
   },
   "source": [
    "df1[df1.magnitude == 'NO'].iloc[0].unit"
   ],
   "execution_count": 45,
   "outputs": [
    {
     "output_type": "execute_result",
     "data": {
      "application/vnd.google.colaboratory.intrinsic+json": {
       "type": "string"
      },
      "text/plain": [
       "'µg/m^3'"
      ]
     },
     "metadata": {},
     "execution_count": 45
    }
   ]
  },
  {
   "cell_type": "code",
   "metadata": {
    "id": "r3XvJw5NZ6eK"
   },
   "source": [
    "def plot_air_quality_data(title, labels=None, years=(2019, 2020, 2021), figsize=(10, 6), bbox_to_anchor=None, compare_years=False, units=None):\n",
    "    \"\"\"\n",
    "    Plots the data for the selected magnitudes\n",
    "    Args:\n",
    "        title (str): Title of the plot\n",
    "        selected_labels (list): List of strings which contains the magnitude to be plotted.\n",
    "        years (tuple): Tuple with the years to be plotted.\n",
    "        figsize (tuple): Tuple with the size of the figure.\n",
    "        compare_years (bool): If True, the data will be plotted for each year.\n",
    "    \"\"\"\n",
    "\n",
    "    def get_magnitude(s):\n",
    "        \"\"\"\n",
    "        Args:\n",
    "            s (str): String with the magnitude.\n",
    "        Returns:\n",
    "            one magnitude contained from the string\n",
    "        \"\"\"\n",
    "        for m in MAGNITUDES:\n",
    "            if m in s:\n",
    "                return m\n",
    "        raise ValueError(\"Magnitude not found\")\n",
    "\n",
    "\n",
    "    def get_unit(m):\n",
    "        return df1[df1.magnitude == m].iloc[0].unit\n",
    "    \n",
    "\n",
    "    MAGNITUDES = df1.magnitude.unique()\n",
    "    UNITS = {get_unit(m) for m in MAGNITUDES}\n",
    "    units = UNITS if units is None else units\n",
    "\n",
    "    if bbox_to_anchor is None:\n",
    "        bbox_to_anchor = (1.1, 1.05) if labels is None and \"µg/m^3\" in units else (1, 1)\n",
    "\n",
    "    labels = [f\"{m} ({get_unit(m)})\" for m in MAGNITUDES if get_unit(m) in units] if labels is None else labels\n",
    "    selected_magnitudes = [get_magnitude(s) for s in labels]\n",
    "    dataframes = [df1[df1.magnitude == val][[\"date\", \"meanValue\"]] for val in selected_magnitudes]\n",
    "\n",
    "    fig = plt.figure(figsize=figsize)\n",
    "    my_axes = fig.add_axes([0,0,1,1])\n",
    "    my_axes.set_title(title)\n",
    "\n",
    "    for df, magnitude, label in zip(dataframes, selected_magnitudes, labels):\n",
    "        if not compare_years:\n",
    "            temp = df[df1.date.dt.year.isin(years)].groupby(\"date\").mean()\n",
    "            my_axes.plot(temp.index, temp.meanValue, label=label)\n",
    "        else:\n",
    "            for year in years:\n",
    "\n",
    "                raise NotImplementedError\n",
    "\n",
    "                # we want to compare the values of each year by day with two different lines\n",
    "                # the x-axis is the date and it shows the month, the y-axis is the average of the day\n",
    "\n",
    "                temp = df[df1.date.dt.year == year].groupby(\"date\").mean()\n",
    "\n",
    "                temp[\"MONTH_DAY\"] = temp.index.dt.strftime(\"%m-%d\")\n",
    "\n",
    "                # check if it is a leap year and drop the 29th of February using datetime\n",
    "                if year % 4 == 0:\n",
    "                    print(temp[temp.MONTH_DAY == \"02-29\"])\n",
    "                    temp = temp[temp.MONTH_DAY != \"02-29\"]\n",
    "\n",
    "                # my_axes.plot(pd.date_range(\"01-01\", periods=365), temp.MEDIA_DIA, label=label + \" \" + str(year))\n",
    "\n",
    "    my_axes.legend(loc=0, bbox_to_anchor=bbox_to_anchor)\n",
    "    plt.show()"
   ],
   "execution_count": 46,
   "outputs": []
  },
  {
   "cell_type": "code",
   "metadata": {
    "id": "EGNEau5dRc0m",
    "colab": {
     "base_uri": "https://localhost:8080/",
     "height": 493
    },
    "outputId": "812e0829-3d5d-42f2-f912-4054a29db2c1"
   },
   "source": [
    "plot_air_quality_data(\"Air Quality Data (mean per day)\", units={\"µg/m^3\"})"
   ],
   "execution_count": 47,
   "outputs": [
    {
     "output_type": "display_data",
     "data": {
      "image/png": "[encoded data removed]",
      "text/plain": [
       "<Figure size 720x432 with 1 Axes>"
      ]
     },
     "metadata": {
      "needs_background": "light"
     }
    }
   ]
  },
  {
   "cell_type": "code",
   "metadata": {
    "id": "CVNNoJZdz21P",
    "colab": {
     "base_uri": "https://localhost:8080/",
     "height": 493
    },
    "outputId": "abd798a9-72b4-463d-e251-fa83c4d8e195"
   },
   "source": [
    "plot_air_quality_data(\"Air Quality Data (mean per day)\", units={\"mg/m^3\"})"
   ],
   "execution_count": 48,
   "outputs": [
    {
     "output_type": "display_data",
     "data": {
      "image/png": "[encoded data removed]",
      "text/plain": [
       "<Figure size 720x432 with 1 Axes>"
      ]
     },
     "metadata": {
      "needs_background": "light"
     }
    }
   ]
  },
  {
   "cell_type": "code",
   "metadata": {
    "id": "CeaQAlM5sTAh",
    "colab": {
     "base_uri": "https://localhost:8080/",
     "height": 349
    },
    "outputId": "5487bc3d-4d52-4818-b1e0-72ca96c7a69a"
   },
   "source": [
    "plot_air_quality_data(\"NO (µg/m^3) Data 2019 (mean per day)\", [\"NO (µg/m^3)\"], [2019, 2020], figsize=(7, 4))"
   ],
   "execution_count": 49,
   "outputs": [
    {
     "output_type": "display_data",
     "data": {
      "image/png": "[encoded data removed]",
      "text/plain": [
       "<Figure size 504x288 with 1 Axes>"
      ]
     },
     "metadata": {
      "needs_background": "light"
     }
    }
   ]
  },
  {
   "cell_type": "code",
   "metadata": {
    "id": "pjqnO_RJTDV4",
    "colab": {
     "base_uri": "https://localhost:8080/",
     "height": 349
    },
    "outputId": "d0c3e074-d437-40ef-a5fd-63e23cb41763"
   },
   "source": [
    "plot_air_quality_data(\"CO (µg/m^3) Data 2019 (mean per day)\", [\"CO (µg/m^3)\"], [2019], figsize=(7, 4))"
   ],
   "execution_count": 50,
   "outputs": [
    {
     "output_type": "display_data",
     "data": {
      "image/png": "[encoded data removed]",
      "text/plain": [
       "<Figure size 504x288 with 1 Axes>"
      ]
     },
     "metadata": {
      "needs_background": "light"
     }
    }
   ]
  },
  {
   "cell_type": "code",
   "metadata": {
    "id": "r3ZkpByzkSOr",
    "colab": {
     "base_uri": "https://localhost:8080/",
     "height": 349
    },
    "outputId": "aa08ad65-ee0e-4915-e00e-9212e561a326"
   },
   "source": [
    "plot_air_quality_data(\"CO (µg/m^3) Data 2020 (mean per day)\", [\"CO (µg/m^3)\"], [2020], figsize=(7, 4))"
   ],
   "execution_count": 51,
   "outputs": [
    {
     "output_type": "display_data",
     "data": {
      "image/png": "[encoded data removed]",
      "text/plain": [
       "<Figure size 504x288 with 1 Axes>"
      ]
     },
     "metadata": {
      "needs_background": "light"
     }
    }
   ]
  },
  {
   "cell_type": "code",
   "metadata": {
    "id": "0sOTQAgDkUo2",
    "colab": {
     "base_uri": "https://localhost:8080/",
     "height": 349
    },
    "outputId": "66d21404-ec64-4183-b64c-f9e247fcfcb6"
   },
   "source": [
    "plot_air_quality_data(\"CO (µg/m^3) Data 2021 (mean per day)\", [\"CO (µg/m^3)\"], [2021], figsize=(7, 4))"
   ],
   "execution_count": 52,
   "outputs": [
    {
     "output_type": "display_data",
     "data": {
      "image/png": "[encoded data removed]",
      "text/plain": [
       "<Figure size 504x288 with 1 Axes>"
      ]
     },
     "metadata": {
      "needs_background": "light"
     }
    }
   ]
  }
 ]
}