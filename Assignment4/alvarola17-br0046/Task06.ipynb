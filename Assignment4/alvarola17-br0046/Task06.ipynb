{
  "cells": [
    {
      "cell_type": "markdown",
      "metadata": {
        "colab_type": "text",
        "id": "nOOPLCHF7hLB"
      },
      "source": [
        "**Task 06: Modifying RDF(s)**"
      ]
    },
    {
      "cell_type": "code",
      "execution_count": 1,
      "metadata": {
        "colab": {},
        "colab_type": "code",
        "id": "Yl9npCt8n6m-"
      },
      "outputs": [],
      "source": [
        "#!pip install rdflib \n",
        "github_storage = \"https://raw.githubusercontent.com/AndreaCimminoArriaga/LinkedData2021-2022/main/Assignment4/\""
      ]
    },
    {
      "cell_type": "markdown",
      "metadata": {
        "colab_type": "text",
        "id": "XY7aPc86Bqoo"
      },
      "source": [
        "Leemos el fichero RDF de la forma que lo hemos venido haciendo"
      ]
    },
    {
      "cell_type": "code",
      "execution_count": 2,
      "metadata": {
        "colab": {},
        "colab_type": "code",
        "id": "9ERh415on7kF"
      },
      "outputs": [
        {
          "data": {
            "text/plain": [
              "<Graph identifier=N8ea84ccf3bb040bc993d82bf49db6530 (<class 'rdflib.graph.Graph'>)>"
            ]
          },
          "execution_count": 2,
          "metadata": {},
          "output_type": "execute_result"
        }
      ],
      "source": [
        "from rdflib import Graph, Namespace, Literal\n",
        "from rdflib.namespace import RDF, RDFS\n",
        "g = Graph()\n",
        "g.namespace_manager.bind('ns', Namespace(\"http://somewhere#\"), override=False)\n",
        "g.namespace_manager.bind('vcard', Namespace(\"http://www.w3.org/2001/vcard-rdf/3.0#\"), override=False)\n",
        "g.parse(github_storage+\"/resources/example5.rdf\", format=\"xml\")"
      ]
    },
    {
      "cell_type": "markdown",
      "metadata": {
        "colab_type": "text",
        "id": "gM3DASkTQQ5Y"
      },
      "source": [
        "Create a new class named Researcher"
      ]
    },
    {
      "cell_type": "code",
      "execution_count": 3,
      "metadata": {
        "colab": {},
        "colab_type": "code",
        "id": "6vtudax8Xb7b"
      },
      "outputs": [
        {
          "name": "stdout",
          "output_type": "stream",
          "text": [
            "http://somewhere#JohnSmith http://www.w3.org/2001/vcard-rdf/3.0/Family Smith\n",
            "http://somewhere#SaraJones http://www.w3.org/2001/vcard-rdf/3.0/Given Sara\n",
            "http://somewhere#SaraJones http://www.w3.org/2001/vcard-rdf/3.0/FN Sara Jones\n",
            "http://somewhere#Researcher http://www.w3.org/1999/02/22-rdf-syntax-ns#type http://www.w3.org/2000/01/rdf-schema#Class\n",
            "http://www.w3.org/2001/vcard-rdf/3.0/Given http://www.w3.org/2000/01/rdf-schema#range http://www.w3.org/2001/XMLSchema#string\n",
            "http://somewhere#JohnSmith http://www.w3.org/1999/02/22-rdf-syntax-ns#type http://somewhere#Person\n",
            "http://somewhere#SaraJones http://www.w3.org/1999/02/22-rdf-syntax-ns#type http://somewhere#Person\n",
            "http://www.w3.org/2001/vcard-rdf/3.0/FN http://www.w3.org/1999/02/22-rdf-syntax-ns#type http://www.w3.org/2000/01/rdf-schema#Datatype\n",
            "http://www.w3.org/2001/vcard-rdf/3.0/Family http://www.w3.org/2000/01/rdf-schema#range http://www.w3.org/2001/XMLSchema#string\n",
            "http://somewhere#Person http://www.w3.org/1999/02/22-rdf-syntax-ns#type http://www.w3.org/2000/01/rdf-schema#Class\n",
            "http://www.w3.org/2001/vcard-rdf/3.0/Family http://www.w3.org/1999/02/22-rdf-syntax-ns#type http://www.w3.org/2000/01/rdf-schema#Property\n",
            "http://somewhere#SaraJones http://www.w3.org/2001/vcard-rdf/3.0/Family Jones\n",
            "http://www.w3.org/2001/vcard-rdf/3.0/Given http://www.w3.org/1999/02/22-rdf-syntax-ns#type http://www.w3.org/2000/01/rdf-schema#Datatype\n",
            "http://somewhere#JohnSmith http://www.w3.org/2001/vcard-rdf/3.0/FN John Smith\n",
            "http://www.w3.org/2001/vcard-rdf/3.0/FN http://www.w3.org/2000/01/rdf-schema#range http://www.w3.org/2001/XMLSchema#string\n",
            "http://somewhere#JohnSmith http://www.w3.org/2001/vcard-rdf/3.0/Given John\n"
          ]
        }
      ],
      "source": [
        "ns = Namespace(\"http://somewhere#\")\n",
        "g.add((ns.Researcher, RDF.type, RDFS.Class))\n",
        "for s, p, o in g:\n",
        "  print(s,p,o)"
      ]
    },
    {
      "cell_type": "markdown",
      "metadata": {
        "colab_type": "text",
        "id": "qp1oe2Eddsvo"
      },
      "source": [
        "**TASK 6.1: Create a new class named \"University\"**"
      ]
    },
    {
      "cell_type": "code",
      "execution_count": 4,
      "metadata": {},
      "outputs": [
        {
          "name": "stdout",
          "output_type": "stream",
          "text": [
            "http://somewhere#JohnSmith http://www.w3.org/2001/vcard-rdf/3.0/Family Smith\n",
            "http://somewhere#SaraJones http://www.w3.org/2001/vcard-rdf/3.0/Given Sara\n",
            "http://somewhere#SaraJones http://www.w3.org/2001/vcard-rdf/3.0/FN Sara Jones\n",
            "http://somewhere#Researcher http://www.w3.org/1999/02/22-rdf-syntax-ns#type http://www.w3.org/2000/01/rdf-schema#Class\n",
            "http://www.w3.org/2001/vcard-rdf/3.0/Given http://www.w3.org/2000/01/rdf-schema#range http://www.w3.org/2001/XMLSchema#string\n",
            "http://somewhere#JohnSmith http://www.w3.org/1999/02/22-rdf-syntax-ns#type http://somewhere#Person\n",
            "http://somewhere#SaraJones http://www.w3.org/1999/02/22-rdf-syntax-ns#type http://somewhere#Person\n",
            "http://www.w3.org/2001/vcard-rdf/3.0/FN http://www.w3.org/1999/02/22-rdf-syntax-ns#type http://www.w3.org/2000/01/rdf-schema#Datatype\n",
            "http://somewhere#University http://www.w3.org/1999/02/22-rdf-syntax-ns#type http://www.w3.org/2000/01/rdf-schema#Class\n",
            "http://www.w3.org/2001/vcard-rdf/3.0/Family http://www.w3.org/2000/01/rdf-schema#range http://www.w3.org/2001/XMLSchema#string\n",
            "http://somewhere#Person http://www.w3.org/1999/02/22-rdf-syntax-ns#type http://www.w3.org/2000/01/rdf-schema#Class\n",
            "http://www.w3.org/2001/vcard-rdf/3.0/Family http://www.w3.org/1999/02/22-rdf-syntax-ns#type http://www.w3.org/2000/01/rdf-schema#Property\n",
            "http://somewhere#SaraJones http://www.w3.org/2001/vcard-rdf/3.0/Family Jones\n",
            "http://www.w3.org/2001/vcard-rdf/3.0/Given http://www.w3.org/1999/02/22-rdf-syntax-ns#type http://www.w3.org/2000/01/rdf-schema#Datatype\n",
            "http://somewhere#JohnSmith http://www.w3.org/2001/vcard-rdf/3.0/FN John Smith\n",
            "http://www.w3.org/2001/vcard-rdf/3.0/FN http://www.w3.org/2000/01/rdf-schema#range http://www.w3.org/2001/XMLSchema#string\n",
            "http://somewhere#JohnSmith http://www.w3.org/2001/vcard-rdf/3.0/Given John\n"
          ]
        }
      ],
      "source": [
        "g.add((ns.University, RDF.type, RDFS.Class))\n",
        "for s, p, o in g:\n",
        "  print(s,p,o)"
      ]
    },
    {
      "cell_type": "markdown",
      "metadata": {
        "colab_type": "text",
        "id": "MXBqtBkJd22I"
      },
      "source": [
        "**TASK 6.2: Add \"Researcher\" as a subclass of \"Person\"**"
      ]
    },
    {
      "cell_type": "code",
      "execution_count": 5,
      "metadata": {},
      "outputs": [
        {
          "name": "stdout",
          "output_type": "stream",
          "text": [
            "http://somewhere#JohnSmith http://www.w3.org/2001/vcard-rdf/3.0/Family Smith\n",
            "http://somewhere#SaraJones http://www.w3.org/2001/vcard-rdf/3.0/Given Sara\n",
            "http://somewhere#Researcher http://www.w3.org/2000/01/rdf-schema#subClassOf http://somewhere#Person\n",
            "http://somewhere#SaraJones http://www.w3.org/2001/vcard-rdf/3.0/FN Sara Jones\n",
            "http://somewhere#Researcher http://www.w3.org/1999/02/22-rdf-syntax-ns#type http://www.w3.org/2000/01/rdf-schema#Class\n",
            "http://www.w3.org/2001/vcard-rdf/3.0/Given http://www.w3.org/2000/01/rdf-schema#range http://www.w3.org/2001/XMLSchema#string\n",
            "http://somewhere#JohnSmith http://www.w3.org/1999/02/22-rdf-syntax-ns#type http://somewhere#Person\n",
            "http://somewhere#SaraJones http://www.w3.org/1999/02/22-rdf-syntax-ns#type http://somewhere#Person\n",
            "http://www.w3.org/2001/vcard-rdf/3.0/FN http://www.w3.org/1999/02/22-rdf-syntax-ns#type http://www.w3.org/2000/01/rdf-schema#Datatype\n",
            "http://somewhere#University http://www.w3.org/1999/02/22-rdf-syntax-ns#type http://www.w3.org/2000/01/rdf-schema#Class\n",
            "http://www.w3.org/2001/vcard-rdf/3.0/Family http://www.w3.org/2000/01/rdf-schema#range http://www.w3.org/2001/XMLSchema#string\n",
            "http://somewhere#Person http://www.w3.org/1999/02/22-rdf-syntax-ns#type http://www.w3.org/2000/01/rdf-schema#Class\n",
            "http://www.w3.org/2001/vcard-rdf/3.0/Family http://www.w3.org/1999/02/22-rdf-syntax-ns#type http://www.w3.org/2000/01/rdf-schema#Property\n",
            "http://somewhere#SaraJones http://www.w3.org/2001/vcard-rdf/3.0/Family Jones\n",
            "http://www.w3.org/2001/vcard-rdf/3.0/Given http://www.w3.org/1999/02/22-rdf-syntax-ns#type http://www.w3.org/2000/01/rdf-schema#Datatype\n",
            "http://somewhere#JohnSmith http://www.w3.org/2001/vcard-rdf/3.0/FN John Smith\n",
            "http://www.w3.org/2001/vcard-rdf/3.0/FN http://www.w3.org/2000/01/rdf-schema#range http://www.w3.org/2001/XMLSchema#string\n",
            "http://somewhere#JohnSmith http://www.w3.org/2001/vcard-rdf/3.0/Given John\n"
          ]
        }
      ],
      "source": [
        "g.add((ns.Researcher, RDFS.subClassOf, ns.Person))\n",
        "for s, p, o in g:\n",
        "  print(s,p,o)"
      ]
    },
    {
      "cell_type": "markdown",
      "metadata": {
        "colab_type": "text",
        "id": "OGct6k7Ld9O0"
      },
      "source": [
        "**TASK 6.3: Create a new individual of Researcher named \"Jane Smith\"**"
      ]
    },
    {
      "cell_type": "code",
      "execution_count": 6,
      "metadata": {},
      "outputs": [
        {
          "name": "stdout",
          "output_type": "stream",
          "text": [
            "http://somewhere#JohnSmith http://www.w3.org/2001/vcard-rdf/3.0/Family Smith\n",
            "http://somewhere#SaraJones http://www.w3.org/2001/vcard-rdf/3.0/Given Sara\n",
            "http://somewhere#Researcher http://www.w3.org/2000/01/rdf-schema#subClassOf http://somewhere#Person\n",
            "http://somewhere#SaraJones http://www.w3.org/2001/vcard-rdf/3.0/FN Sara Jones\n",
            "http://somewhere#Researcher http://www.w3.org/1999/02/22-rdf-syntax-ns#type http://www.w3.org/2000/01/rdf-schema#Class\n",
            "http://www.w3.org/2001/vcard-rdf/3.0/Given http://www.w3.org/2000/01/rdf-schema#range http://www.w3.org/2001/XMLSchema#string\n",
            "http://somewhere#JohnSmith http://www.w3.org/1999/02/22-rdf-syntax-ns#type http://somewhere#Person\n",
            "http://somewhere#SaraJones http://www.w3.org/1999/02/22-rdf-syntax-ns#type http://somewhere#Person\n",
            "http://www.w3.org/2001/vcard-rdf/3.0/FN http://www.w3.org/1999/02/22-rdf-syntax-ns#type http://www.w3.org/2000/01/rdf-schema#Datatype\n",
            "http://somewhere#University http://www.w3.org/1999/02/22-rdf-syntax-ns#type http://www.w3.org/2000/01/rdf-schema#Class\n",
            "http://www.w3.org/2001/vcard-rdf/3.0/Family http://www.w3.org/2000/01/rdf-schema#range http://www.w3.org/2001/XMLSchema#string\n",
            "http://somewhere#JaneSmith http://www.w3.org/1999/02/22-rdf-syntax-ns#type http://somewhere#Researcher\n",
            "http://somewhere#Person http://www.w3.org/1999/02/22-rdf-syntax-ns#type http://www.w3.org/2000/01/rdf-schema#Class\n",
            "http://www.w3.org/2001/vcard-rdf/3.0/Family http://www.w3.org/1999/02/22-rdf-syntax-ns#type http://www.w3.org/2000/01/rdf-schema#Property\n",
            "http://somewhere#SaraJones http://www.w3.org/2001/vcard-rdf/3.0/Family Jones\n",
            "http://www.w3.org/2001/vcard-rdf/3.0/Given http://www.w3.org/1999/02/22-rdf-syntax-ns#type http://www.w3.org/2000/01/rdf-schema#Datatype\n",
            "http://somewhere#JohnSmith http://www.w3.org/2001/vcard-rdf/3.0/FN John Smith\n",
            "http://www.w3.org/2001/vcard-rdf/3.0/FN http://www.w3.org/2000/01/rdf-schema#range http://www.w3.org/2001/XMLSchema#string\n",
            "http://somewhere#JohnSmith http://www.w3.org/2001/vcard-rdf/3.0/Given John\n"
          ]
        }
      ],
      "source": [
        "g.add((ns.JaneSmith, RDF.type, ns.Researcher))\n",
        "for s, p, o in g:\n",
        "  print(s,p,o)"
      ]
    },
    {
      "cell_type": "markdown",
      "metadata": {
        "colab_type": "text",
        "id": "tD383J__eHfV"
      },
      "source": [
        "**TASK 6.4: Add to the individual JaneSmith the fullName, given and family names**"
      ]
    },
    {
      "cell_type": "code",
      "execution_count": 7,
      "metadata": {},
      "outputs": [
        {
          "name": "stdout",
          "output_type": "stream",
          "text": [
            "http://somewhere#JohnSmith http://www.w3.org/2001/vcard-rdf/3.0/Family Smith\n",
            "http://somewhere#SaraJones http://www.w3.org/2001/vcard-rdf/3.0/Given Sara\n",
            "http://somewhere#Researcher http://www.w3.org/2000/01/rdf-schema#subClassOf http://somewhere#Person\n",
            "http://somewhere#JaneSmith http://www.w3.org/2001/vcard-rdf/3.0/Given Jane\n",
            "http://somewhere#SaraJones http://www.w3.org/2001/vcard-rdf/3.0/FN Sara Jones\n",
            "http://somewhere#Researcher http://www.w3.org/1999/02/22-rdf-syntax-ns#type http://www.w3.org/2000/01/rdf-schema#Class\n",
            "http://www.w3.org/2001/vcard-rdf/3.0/Given http://www.w3.org/2000/01/rdf-schema#range http://www.w3.org/2001/XMLSchema#string\n",
            "http://somewhere#JohnSmith http://www.w3.org/1999/02/22-rdf-syntax-ns#type http://somewhere#Person\n",
            "http://somewhere#SaraJones http://www.w3.org/1999/02/22-rdf-syntax-ns#type http://somewhere#Person\n",
            "http://somewhere#JaneSmith http://www.w3.org/2001/vcard-rdf/3.0/Family Smith\n",
            "http://www.w3.org/2001/vcard-rdf/3.0/FN http://www.w3.org/1999/02/22-rdf-syntax-ns#type http://www.w3.org/2000/01/rdf-schema#Datatype\n",
            "http://somewhere#University http://www.w3.org/1999/02/22-rdf-syntax-ns#type http://www.w3.org/2000/01/rdf-schema#Class\n",
            "http://www.w3.org/2001/vcard-rdf/3.0/Family http://www.w3.org/2000/01/rdf-schema#range http://www.w3.org/2001/XMLSchema#string\n",
            "http://somewhere#JaneSmith http://www.w3.org/1999/02/22-rdf-syntax-ns#type http://somewhere#Researcher\n",
            "http://somewhere#Person http://www.w3.org/1999/02/22-rdf-syntax-ns#type http://www.w3.org/2000/01/rdf-schema#Class\n",
            "http://www.w3.org/2001/vcard-rdf/3.0/Family http://www.w3.org/1999/02/22-rdf-syntax-ns#type http://www.w3.org/2000/01/rdf-schema#Property\n",
            "http://somewhere#SaraJones http://www.w3.org/2001/vcard-rdf/3.0/Family Jones\n",
            "http://www.w3.org/2001/vcard-rdf/3.0/Given http://www.w3.org/1999/02/22-rdf-syntax-ns#type http://www.w3.org/2000/01/rdf-schema#Datatype\n",
            "http://somewhere#JohnSmith http://www.w3.org/2001/vcard-rdf/3.0/FN John Smith\n",
            "http://www.w3.org/2001/vcard-rdf/3.0/FN http://www.w3.org/2000/01/rdf-schema#range http://www.w3.org/2001/XMLSchema#string\n",
            "http://somewhere#JaneSmith http://www.w3.org/2001/vcard-rdf/3.0/FN Jane Smith\n",
            "http://somewhere#JohnSmith http://www.w3.org/2001/vcard-rdf/3.0/Given John\n"
          ]
        }
      ],
      "source": [
        "from rdflib import XSD\n",
        "vcard = Namespace(\"http://www.w3.org/2001/vcard-rdf/3.0/\")\n",
        "g.add((ns.JaneSmith, vcard.FN, Literal(\"Jane Smith\", datatype=XSD.string)))\n",
        "g.add((ns.JaneSmith, vcard.Given, Literal(\"Jane\", datatype=XSD.string)))\n",
        "g.add((ns.JaneSmith, vcard.Family, Literal(\"Smith\", datatype=XSD.string)))\n",
        "for s, p, o in g:\n",
        "  print(s,p,o)"
      ]
    },
    {
      "cell_type": "markdown",
      "metadata": {
        "colab_type": "text",
        "id": "GyZOMndoeUj4"
      },
      "source": [
        "**TASK 6.5: Add UPM as the university where John Smith works**"
      ]
    },
    {
      "cell_type": "code",
      "execution_count": 8,
      "metadata": {},
      "outputs": [
        {
          "name": "stdout",
          "output_type": "stream",
          "text": [
            "http://somewhere#JohnSmith http://www.w3.org/2001/vcard-rdf/3.0/Family Smith\n",
            "http://somewhere#SaraJones http://www.w3.org/2001/vcard-rdf/3.0/Given Sara\n",
            "http://somewhere#Researcher http://www.w3.org/2000/01/rdf-schema#subClassOf http://somewhere#Person\n",
            "http://somewhere#JaneSmith http://www.w3.org/2001/vcard-rdf/3.0/Given Jane\n",
            "http://somewhere#SaraJones http://www.w3.org/2001/vcard-rdf/3.0/FN Sara Jones\n",
            "http://somewhere#Researcher http://www.w3.org/1999/02/22-rdf-syntax-ns#type http://www.w3.org/2000/01/rdf-schema#Class\n",
            "http://www.w3.org/2001/vcard-rdf/3.0/Given http://www.w3.org/2000/01/rdf-schema#range http://www.w3.org/2001/XMLSchema#string\n",
            "http://somewhere#UPM http://www.w3.org/1999/02/22-rdf-syntax-ns#type http://somewhere#University\n",
            "http://somewhere#JohnSmith http://www.w3.org/1999/02/22-rdf-syntax-ns#type http://somewhere#Person\n",
            "http://somewhere#SaraJones http://www.w3.org/1999/02/22-rdf-syntax-ns#type http://somewhere#Person\n",
            "http://somewhere#JaneSmith http://www.w3.org/2001/vcard-rdf/3.0/Family Smith\n",
            "http://www.w3.org/2001/vcard-rdf/3.0/FN http://www.w3.org/1999/02/22-rdf-syntax-ns#type http://www.w3.org/2000/01/rdf-schema#Datatype\n",
            "http://somewhere#University http://www.w3.org/1999/02/22-rdf-syntax-ns#type http://www.w3.org/2000/01/rdf-schema#Class\n",
            "http://www.w3.org/2001/vcard-rdf/3.0/Family http://www.w3.org/2000/01/rdf-schema#range http://www.w3.org/2001/XMLSchema#string\n",
            "http://somewhere#JaneSmith http://www.w3.org/1999/02/22-rdf-syntax-ns#type http://somewhere#Researcher\n",
            "http://somewhere#Person http://www.w3.org/1999/02/22-rdf-syntax-ns#type http://www.w3.org/2000/01/rdf-schema#Class\n",
            "http://somewhere#JohnSmith http://www.w3.org/2001/vcard-rdf/3.0/Work http://somewhere#UPM\n",
            "http://www.w3.org/2001/vcard-rdf/3.0/Family http://www.w3.org/1999/02/22-rdf-syntax-ns#type http://www.w3.org/2000/01/rdf-schema#Property\n",
            "http://www.w3.org/2001/vcard-rdf/3.0/Given http://www.w3.org/1999/02/22-rdf-syntax-ns#type http://www.w3.org/2000/01/rdf-schema#Datatype\n",
            "http://somewhere#SaraJones http://www.w3.org/2001/vcard-rdf/3.0/Family Jones\n",
            "http://somewhere#JohnSmith http://www.w3.org/2001/vcard-rdf/3.0/FN John Smith\n",
            "http://www.w3.org/2001/vcard-rdf/3.0/FN http://www.w3.org/2000/01/rdf-schema#range http://www.w3.org/2001/XMLSchema#string\n",
            "http://somewhere#JaneSmith http://www.w3.org/2001/vcard-rdf/3.0/FN Jane Smith\n",
            "http://somewhere#JohnSmith http://www.w3.org/2001/vcard-rdf/3.0/Given John\n"
          ]
        }
      ],
      "source": [
        "g.add((ns.UPM, RDF.type, ns.University))\n",
        "g.add((ns.JohnSmith, vcard.Work, ns.UPM))\n",
        "for s, p, o in g:\n",
        "  print(s,p,o)"
      ]
    }
  ],
  "metadata": {
    "colab": {
      "collapsed_sections": [],
      "name": "Task06.ipynb",
      "provenance": []
    },
    "interpreter": {
      "hash": "5bf4024b651d1a623012622104d89a00b6b1f90c343bce2e9c97a6f972e6956f"
    },
    "kernelspec": {
      "display_name": "Python 3.9.7 64-bit",
      "name": "python3"
    },
    "language_info": {
      "codemirror_mode": {
        "name": "ipython",
        "version": 3
      },
      "file_extension": ".py",
      "mimetype": "text/x-python",
      "name": "python",
      "nbconvert_exporter": "python",
      "pygments_lexer": "ipython3",
      "version": "3.9.8"
    }
  },
  "nbformat": 4,
  "nbformat_minor": 0
}
