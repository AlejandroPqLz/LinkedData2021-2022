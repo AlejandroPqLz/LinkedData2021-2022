{
  "cells": [
    {
      "cell_type": "markdown",
      "metadata": {
        "colab_type": "text",
        "id": "nOOPLCHF7hLB"
      },
      "source": [
        "**Task 07: Querying RDF(s)**"
      ]
    },
    {
      "cell_type": "code",
      "execution_count": 15,
      "metadata": {
        "colab": {},
        "colab_type": "code",
        "id": "Yl9npCt8n6m-"
      },
      "outputs": [],
      "source": [
        "#!pip install rdflib \n",
        "github_storage = \"https://raw.githubusercontent.com/AndreaCimminoArriaga/LinkedData2021-2022/main/Assignment4/\""
      ]
    },
    {
      "cell_type": "markdown",
      "metadata": {
        "colab_type": "text",
        "id": "XY7aPc86Bqoo"
      },
      "source": [
        "Leemos el fichero RDF de la forma que lo hemos venido haciendo"
      ]
    },
    {
      "cell_type": "code",
      "execution_count": 16,
      "metadata": {
        "colab": {},
        "colab_type": "code",
        "id": "9ERh415on7kF"
      },
      "outputs": [
        {
          "name": "stdout",
          "output_type": "stream",
          "text": [
            "http://somewhere#http://www.w3.org/2001/vcard-rdf/3.0/FN http://www.w3.org/2000/01/rdf-schema#range http://www.w3.org/2001/XMLSchema#string\n",
            "http://somewhere#Researcher http://www.w3.org/1999/02/22-rdf-syntax-ns#type http://www.w3.org/2000/01/rdf-schema#Class\n",
            "http://somewhere#SaraJones http://somewhere#http://www.w3.org/2001/vcard-rdf/3.0/Given Sara\n",
            "http://somewhere#UPM http://www.w3.org/1999/02/22-rdf-syntax-ns#type http://somewhere#University\n",
            "http://somewhere#JohnSmith http://somewhere#http://www.w3.org/2001/vcard-rdf/3.0/FN John Smith\n",
            "http://somewhere#University http://www.w3.org/1999/02/22-rdf-syntax-ns#type http://www.w3.org/2000/01/rdf-schema#Class\n",
            "http://somewhere#PhDstudent http://www.w3.org/2000/01/rdf-schema#subClassOf http://somewhere#Researcher\n",
            "http://somewhere#http://www.w3.org/2001/vcard-rdf/3.0/Family http://www.w3.org/1999/02/22-rdf-syntax-ns#type http://www.w3.org/2000/01/rdf-schema#Property\n",
            "http://somewhere#http://www.w3.org/2001/vcard-rdf/3.0/Given http://www.w3.org/2000/01/rdf-schema#range http://www.w3.org/2001/XMLSchema#string\n",
            "http://somewhere#Researcher http://www.w3.org/2000/01/rdf-schema#subClassOf http://somewhere#Person\n",
            "http://somewhere#JaneSmith http://www.w3.org/1999/02/22-rdf-syntax-ns#type http://somewhere#Researcher\n",
            "http://somewhere#JaneSmith http://somewhere#http://www.w3.org/2001/vcard-rdf/3.0/FN jane Smith\n",
            "http://somewhere#JohnSmith http://somewhere#http://www.w3.org/2001/vcard-rdf/3.0/Family Smith\n",
            "http://somewhere#SaraJones http://www.w3.org/1999/02/22-rdf-syntax-ns#type http://somewhere#Person\n",
            "http://somewhere#PhDstudent http://www.w3.org/1999/02/22-rdf-syntax-ns#type http://www.w3.org/2000/01/rdf-schema#Class\n",
            "http://somewhere#JaneSmith http://somewhere#http://www.w3.org/2001/vcard-rdf/3.0/Family Smith\n",
            "http://somewhere#JohnSmith http://somewhere#http://www.w3.org/2001/vcard-rdf/3.0/Given John\n",
            "http://somewhere#JohnSmith http://www.w3.org/1999/02/22-rdf-syntax-ns#type http://somewhere#Person\n",
            "http://somewhere#SaraJones http://somewhere#http://www.w3.org/2001/vcard-rdf/3.0/Family Jones\n",
            "http://somewhere#SaraJones http://somewhere#http://www.w3.org/2001/vcard-rdf/3.0/FN Sara Jones\n",
            "http://somewhere#http://www.w3.org/2001/vcard-rdf/3.0/Given http://www.w3.org/1999/02/22-rdf-syntax-ns#type http://www.w3.org/2000/01/rdf-schema#Datatype\n",
            "http://somewhere#Person http://www.w3.org/1999/02/22-rdf-syntax-ns#type http://www.w3.org/2000/01/rdf-schema#Class\n",
            "http://somewhere#http://www.w3.org/2001/vcard-rdf/3.0/FN http://www.w3.org/1999/02/22-rdf-syntax-ns#type http://www.w3.org/2000/01/rdf-schema#Datatype\n",
            "http://somewhere#JaneSmith http://somewhere#http://www.w3.org/2001/vcard-rdf/3.0/Given Jane\n",
            "http://somewhere#http://www.w3.org/2001/vcard-rdf/3.0/Family http://www.w3.org/2000/01/rdf-schema#range http://www.w3.org/2001/XMLSchema#string\n"
          ]
        }
      ],
      "source": [
        "from rdflib import Graph, Namespace, Literal\n",
        "from rdflib.namespace import RDF, RDFS\n",
        "from rdflib.plugins.sparql import prepareQuery\n",
        "g = Graph()\n",
        "g.namespace_manager.bind('ns', Namespace(\"http://somewhere#\"), override=False)\n",
        "g.namespace_manager.bind('vcard', Namespace(\"http://www.w3.org/2001/vcard-rdf/3.0#\"), override=False)\n",
        "g.parse(github_storage+\"/resources/example6.rdf\", format=\"xml\")\n",
        "for s, p, o in g:\n",
        "  print(s,p,o)"
      ]
    },
    {
      "cell_type": "markdown",
      "metadata": {
        "colab_type": "text",
        "id": "qp1oe2Eddsvo"
      },
      "source": [
        "**TASK 7.1: List all subclasses of \"Person\" with RDFLib and SPARQL**"
      ]
    },
    {
      "cell_type": "code",
      "execution_count": 17,
      "metadata": {},
      "outputs": [
        {
          "name": "stdout",
          "output_type": "stream",
          "text": [
            "Using RDFLib\n",
            "http://somewhere#Researcher\n",
            "Using SPARQL\n",
            "http://somewhere#Researcher\n"
          ]
        }
      ],
      "source": [
        "ns = Namespace(\"http://somewhere#\")\n",
        "print(\"Using RDFLib\")\n",
        "for s, p, o in g.triples((None, RDFS.subClassOf, ns.Person)):\n",
        "  print(s)\n",
        "\n",
        "print(\"Using SPARQL\")\n",
        "\n",
        "q1 = prepareQuery('''\n",
        "  SELECT \n",
        "    ?s\n",
        "  WHERE { \n",
        "    ?s rdfs:subClassOf ns:Person. \n",
        "  }\n",
        "  ''',\n",
        "  initNs = {\"ns\" : ns, \"rdfs\" : RDFS}\n",
        ")\n",
        "\n",
        "for r in g.query(q1):\n",
        "  print(r[0])\n"
      ]
    },
    {
      "cell_type": "markdown",
      "metadata": {
        "colab_type": "text",
        "id": "gM3DASkTQQ5Y"
      },
      "source": [
        "**TASK 7.2: List all individuals of \"Person\" with RDFLib and SPARQL (remember the subClasses)**\n"
      ]
    },
    {
      "cell_type": "code",
      "execution_count": 18,
      "metadata": {},
      "outputs": [
        {
          "name": "stdout",
          "output_type": "stream",
          "text": [
            "Using RDFLib\n",
            "http://somewhere#SaraJones\n",
            "http://somewhere#JohnSmith\n",
            "http://somewhere#JaneSmith\n",
            "Using SPARQL\n",
            "http://somewhere#JaneSmith\n",
            "http://somewhere#SaraJones\n",
            "http://somewhere#JohnSmith\n"
          ]
        }
      ],
      "source": [
        "print(\"Using RDFLib\")\n",
        "\n",
        "for s, p, o in g.triples((None, RDF.type, None)):\n",
        "  if o == ns.Person or (o, RDFS.subClassOf, ns.Person) in g:\n",
        "    print(s)\n",
        "\n",
        "print(\"Using SPARQL\")\n",
        "\n",
        "q2 = prepareQuery('''\n",
        "  SELECT \n",
        "    ?s\n",
        "  WHERE { \n",
        "    {\n",
        "    ?o rdfs:subClassOf ns:Person.\n",
        "    ?s rdf:type ?o.\n",
        "    } UNION {\n",
        "    ?s rdf:type ns:Person.\n",
        "    }\n",
        "  }\n",
        "  ''',\n",
        "  initNs = {\"ns\" : ns, \"rdfs\" : RDFS, \"rdf\" : RDF}\n",
        ")\n",
        "\n",
        "for r in g.query(q2):\n",
        "  print(r[0])"
      ]
    },
    {
      "cell_type": "markdown",
      "metadata": {
        "colab_type": "text",
        "id": "MXBqtBkJd22I"
      },
      "source": [
        "**TASK 7.3: List all individuals of \"Person\" and all their properties including their class with RDFLib and SPARQL**\n"
      ]
    },
    {
      "cell_type": "code",
      "execution_count": 24,
      "metadata": {},
      "outputs": [
        {
          "name": "stdout",
          "output_type": "stream",
          "text": [
            "Using RDFLib\n",
            "Person http://somewhere#SaraJones, with class http://somewhere#Person, has the following properties: \n",
            "\n",
            "http://www.w3.org/1999/02/22-rdf-syntax-ns#type\n",
            "http://somewhere#http://www.w3.org/2001/vcard-rdf/3.0/Given\n",
            "http://somewhere#http://www.w3.org/2001/vcard-rdf/3.0/FN\n",
            "http://somewhere#http://www.w3.org/2001/vcard-rdf/3.0/Family\n",
            "\n",
            "Person http://somewhere#JohnSmith, with class http://somewhere#Person, has the following properties: \n",
            "\n",
            "http://www.w3.org/1999/02/22-rdf-syntax-ns#type\n",
            "http://somewhere#http://www.w3.org/2001/vcard-rdf/3.0/Given\n",
            "http://somewhere#http://www.w3.org/2001/vcard-rdf/3.0/FN\n",
            "http://somewhere#http://www.w3.org/2001/vcard-rdf/3.0/Family\n",
            "\n",
            "Person http://somewhere#JaneSmith, with class http://somewhere#Researcher, has the following properties: \n",
            "\n",
            "http://www.w3.org/1999/02/22-rdf-syntax-ns#type\n",
            "http://somewhere#http://www.w3.org/2001/vcard-rdf/3.0/Given\n",
            "http://somewhere#http://www.w3.org/2001/vcard-rdf/3.0/FN\n",
            "http://somewhere#http://www.w3.org/2001/vcard-rdf/3.0/Family\n",
            "\n",
            "Using SPARQL\n",
            "Dictionary with all individuals and their properties:\n",
            "{rdflib.term.URIRef('http://somewhere#JaneSmith'): {rdflib.term.URIRef('http://somewhere#http://www.w3.org/2001/vcard-rdf/3.0/FN'), rdflib.term.URIRef('http://somewhere#http://www.w3.org/2001/vcard-rdf/3.0/Given'), rdflib.term.URIRef('http://www.w3.org/1999/02/22-rdf-syntax-ns#type'), rdflib.term.URIRef('http://somewhere#http://www.w3.org/2001/vcard-rdf/3.0/Family')}, rdflib.term.URIRef('http://somewhere#SaraJones'): {rdflib.term.URIRef('http://somewhere#http://www.w3.org/2001/vcard-rdf/3.0/FN'), rdflib.term.URIRef('http://somewhere#http://www.w3.org/2001/vcard-rdf/3.0/Given'), rdflib.term.URIRef('http://www.w3.org/1999/02/22-rdf-syntax-ns#type'), rdflib.term.URIRef('http://somewhere#http://www.w3.org/2001/vcard-rdf/3.0/Family')}, rdflib.term.URIRef('http://somewhere#JohnSmith'): {rdflib.term.URIRef('http://somewhere#http://www.w3.org/2001/vcard-rdf/3.0/FN'), rdflib.term.URIRef('http://somewhere#http://www.w3.org/2001/vcard-rdf/3.0/Given'), rdflib.term.URIRef('http://www.w3.org/1999/02/22-rdf-syntax-ns#type'), rdflib.term.URIRef('http://somewhere#http://www.w3.org/2001/vcard-rdf/3.0/Family')}}\n",
            "Dictionary with all individuals and their class:\n",
            "{rdflib.term.URIRef('http://somewhere#JaneSmith'): {rdflib.term.URIRef('http://somewhere#Researcher')}, rdflib.term.URIRef('http://somewhere#SaraJones'): {rdflib.term.URIRef('http://somewhere#Person')}, rdflib.term.URIRef('http://somewhere#JohnSmith'): {rdflib.term.URIRef('http://somewhere#Person')}}\n"
          ]
        }
      ],
      "source": [
        "print(\"Using RDFLib\")\n",
        "\n",
        "for s, p, o in g.triples((None, RDF.type, None)):\n",
        "  if o == ns.Person or (o, RDFS.subClassOf, ns.Person) in g:\n",
        "    print(f\"Person {s}, with class {o}, has the following properties: \\n\")\n",
        "    for su,pr,ob in g.triples((s, None, None)):\n",
        "        print(pr)\n",
        "    print()\n",
        "\n",
        "print(\"Using SPARQL\")\n",
        "\n",
        "q3 = prepareQuery('''\n",
        "  SELECT DISTINCT\n",
        "    ?s ?p ?o ?ob\n",
        "  WHERE { \n",
        "    {\n",
        "    ?ob rdfs:subClassOf ns:Person.\n",
        "    ?s rdf:type ?ob.\n",
        "    ?s ?p ?o.\n",
        "    } UNION {\n",
        "    ?s rdf:type ns:Person.\n",
        "    ?s rdf:type ?ob.\n",
        "    ?s ?p ?o.\n",
        "    }\n",
        "  }\n",
        "  ''',\n",
        "  initNs = {\"ns\" : ns, \"rdfs\" : RDFS, \"rdf\" : RDF}\n",
        ")\n",
        "prop = dict()\n",
        "clss = dict()\n",
        "for s, p, o, ob in g.query(q3):\n",
        "  prop.setdefault(s, set()).add(p)\n",
        "  clss.setdefault(s, set()).add(ob)\n",
        "print(f\"Dictionary with all individuals and their properties:\\n{prop}\\nDictionary with all individuals and their class:\\n{clss}\")"
      ]
    },
    {
      "cell_type": "code",
      "execution_count": null,
      "metadata": {},
      "outputs": [],
      "source": []
    }
  ],
  "metadata": {
    "colab": {
      "collapsed_sections": [],
      "name": "Task07.ipynb",
      "provenance": []
    },
    "interpreter": {
      "hash": "5bf4024b651d1a623012622104d89a00b6b1f90c343bce2e9c97a6f972e6956f"
    },
    "kernelspec": {
      "display_name": "Python 3.9.7 64-bit",
      "name": "python3"
    },
    "language_info": {
      "codemirror_mode": {
        "name": "ipython",
        "version": 3
      },
      "file_extension": ".py",
      "mimetype": "text/x-python",
      "name": "python",
      "nbconvert_exporter": "python",
      "pygments_lexer": "ipython3",
      "version": "3.9.8"
    }
  },
  "nbformat": 4,
  "nbformat_minor": 0
}
