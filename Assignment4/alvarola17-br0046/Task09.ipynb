{
  "cells": [
    {
      "cell_type": "markdown",
      "metadata": {
        "colab_type": "text",
        "id": "wIhJ69byU2Ad"
      },
      "source": [
        "**Task 09: Data linking**"
      ]
    },
    {
      "cell_type": "code",
      "execution_count": 33,
      "metadata": {
        "colab": {},
        "colab_type": "code",
        "id": "0sQG2Y915Isp"
      },
      "outputs": [],
      "source": [
        "#!pip install rdflib\n",
        "github_storage = \"https://raw.githubusercontent.com/AndreaCimminoArriaga/LinkedData2021-2022/main/Assignment4/\""
      ]
    },
    {
      "cell_type": "code",
      "execution_count": 34,
      "metadata": {
        "colab": {},
        "colab_type": "code",
        "id": "Jb4QeLue5NLr"
      },
      "outputs": [],
      "source": [
        "from rdflib import Graph, Namespace, Literal, URIRef\n",
        "from rdflib.namespace import OWL, RDF, RDFS\n",
        "g1 = Graph()\n",
        "g2 = Graph()\n",
        "g3 = Graph()\n",
        "g1.parse(github_storage+\"resources/data03.rdf\", format=\"xml\")\n",
        "g2.parse(github_storage+\"resources/data04.rdf\", format=\"xml\")\n",
        "g3.namespace_manager.bind('owl', OWL, override=True)"
      ]
    },
    {
      "cell_type": "markdown",
      "metadata": {
        "colab_type": "text",
        "id": "5wfBZiQSU827"
      },
      "source": [
        "Busca individuos en los dos grafos y enlázalos mediante la propiedad OWL:sameAs, inserta estas coincidencias en g3. Consideramos dos individuos iguales si tienen el mismo apodo y nombre de familia. Ten en cuenta que las URI no tienen por qué ser iguales para un mismo individuo en los dos grafos."
      ]
    },
    {
      "cell_type": "code",
      "execution_count": 35,
      "metadata": {},
      "outputs": [
        {
          "name": "stdout",
          "output_type": "stream",
          "text": [
            "@prefix owl: <http://www.w3.org/2002/07/owl#> .\n",
            "\n",
            "<http://data.three.org#JohnDoe> owl:sameAs <http://data.four.org#0005> .\n",
            "\n",
            "<http://data.three.org#SaraJones> owl:sameAs <http://data.four.org#0001> .\n",
            "\n",
            "\n"
          ]
        }
      ],
      "source": [
        "vcard = Namespace(\"http://www.w3.org/2001/vcard-rdf/3.0#\")\n",
        "list_people1_url = []\n",
        "list_people1 = []\n",
        "list_people2_url=[]\n",
        "list_people2 = []\n",
        "\n",
        "for s1, p1, o1 in g1:\n",
        "    if \"Person\" in o1:\n",
        "        list_people1_url.append(s1)\n",
        "        list_people1.append([g1.value(subject=s1, predicate=vcard.Family), g1.value(subject=s1, predicate=vcard.Given), g1.value(subject=s1, predicate=vcard.FN)])\n",
        "\n",
        "for s2, p2, o2 in g2:\n",
        "    if \"Person\" in o2:\n",
        "        list_people2_url.append(s2)\n",
        "        list_people2.append([g2.value(subject=s2, predicate=vcard.Family), g2.value(subject=s2, predicate=vcard.Given), g2.value(subject=s2, predicate=vcard.FN)])\n",
        "\n",
        "for i in range(len(list_people1)):\n",
        "    if list_people1[i] in list_people2:\n",
        "        j = list_people2.index(list_people1[i])\n",
        "        g3.add((list_people1_url[i], OWL.sameAs, list_people2_url[j]))\n",
        "\n",
        "print(g3.serialize(format=\"ttl\"))"
      ]
    },
    {
      "cell_type": "code",
      "execution_count": null,
      "metadata": {},
      "outputs": [],
      "source": []
    }
  ],
  "metadata": {
    "colab": {
      "collapsed_sections": [],
      "name": "Task09.ipynb",
      "provenance": []
    },
    "interpreter": {
      "hash": "5bf4024b651d1a623012622104d89a00b6b1f90c343bce2e9c97a6f972e6956f"
    },
    "kernelspec": {
      "display_name": "Python 3.9.7 64-bit",
      "name": "python3"
    },
    "language_info": {
      "codemirror_mode": {
        "name": "ipython",
        "version": 3
      },
      "file_extension": ".py",
      "mimetype": "text/x-python",
      "name": "python",
      "nbconvert_exporter": "python",
      "pygments_lexer": "ipython3",
      "version": "3.9.8"
    }
  },
  "nbformat": 4,
  "nbformat_minor": 0
}
