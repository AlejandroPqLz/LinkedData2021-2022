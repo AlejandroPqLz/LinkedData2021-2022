{
  "cells": [
    {
      "cell_type": "markdown",
      "metadata": {
        "colab_type": "text",
        "id": "rb2ewz-dC6GC"
      },
      "source": [
        "**Task 08: Completing missing data**"
      ]
    },
    {
      "cell_type": "code",
      "execution_count": 23,
      "metadata": {
        "colab": {},
        "colab_type": "code",
        "id": "0sQG2Y915Isp"
      },
      "outputs": [],
      "source": [
        "#!pip install rdflib\n",
        "github_storage = \"https://raw.githubusercontent.com/AndreaCimminoArriaga/LinkedData2021-2022/main/Assignment4/\""
      ]
    },
    {
      "cell_type": "code",
      "execution_count": 24,
      "metadata": {
        "colab": {},
        "colab_type": "code",
        "id": "Jb4QeLue5NLr"
      },
      "outputs": [
        {
          "name": "stdout",
          "output_type": "stream",
          "text": [
            "data01.rdf\n",
            "data02.rdf\n"
          ]
        }
      ],
      "source": [
        "from rdflib import Graph, Namespace, Literal, URIRef\n",
        "g1 = Graph()\n",
        "g2 = Graph()\n",
        "g1.parse(github_storage+\"resources/data01.rdf\", format=\"xml\")\n",
        "g2.parse(github_storage+\"resources/data02.rdf\", format=\"xml\")\n",
        "print(\"data01.rdf\")\n",
        "print(\"data02.rdf\")"
      ]
    },
    {
      "cell_type": "markdown",
      "metadata": {
        "colab_type": "text",
        "id": "kxxKghwBElOm"
      },
      "source": [
        "Tarea: lista todos los elementos de la clase Person en el primer grafo (data01.rdf) y completa los campos (given name, family name y email) que puedan faltar con los datos del segundo grafo (data02.rdf). Puedes usar consultas SPARQL o iterar el grafo, o ambas cosas."
      ]
    },
    {
      "cell_type": "code",
      "execution_count": 25,
      "metadata": {},
      "outputs": [
        {
          "name": "stdout",
          "output_type": "stream",
          "text": [
            "Using RDFLib\n",
            "@prefix : <http://data.org#> .\n",
            "@prefix rdfs: <http://www.w3.org/2000/01/rdf-schema#> .\n",
            "@prefix vcard-rdf: <http://www.w3.org/2001/vcard-rdf/3.0#> .\n",
            "@prefix xsd: <http://www.w3.org/2001/XMLSchema#> .\n",
            "\n",
            ":Person a rdfs:Class .\n",
            "\n",
            ":HarryPotter a :Person ;\n",
            "    vcard-rdf:EMAIL \"hpotter@hogwarts.org\"^^xsd:string ;\n",
            "    vcard-rdf:FN \"Harry Potter\"^^xsd:string ;\n",
            "    vcard-rdf:Family \"Potter\"^^xsd:string ;\n",
            "    vcard-rdf:Given \"Harry\"^^xsd:string .\n",
            "\n",
            ":JohnDoe a :Person ;\n",
            "    vcard-rdf:EMAIL \"doe@data.org\"^^xsd:string ;\n",
            "    vcard-rdf:Family \"Doe\"^^xsd:string ;\n",
            "    vcard-rdf:Given \"John\"^^xsd:string .\n",
            "\n",
            ":JohnSmith a :Person ;\n",
            "    vcard-rdf:EMAIL \"j.smith@data.org\"^^xsd:string ;\n",
            "    vcard-rdf:Family \"Smith\"^^xsd:string ;\n",
            "    vcard-rdf:Given \"John\"^^xsd:string .\n",
            "\n",
            ":SaraJones a :Person ;\n",
            "    vcard-rdf:EMAIL \"sara.jones@data.org\"^^xsd:string ;\n",
            "    vcard-rdf:Family \"Jones\"^^xsd:string ;\n",
            "    vcard-rdf:Given \"Sara\"^^xsd:string .\n",
            "\n",
            "<http://www.w3.org/2001/vcard-rdf/3.0/EMAIL> a rdfs:Datatype ;\n",
            "    rdfs:range xsd:string .\n",
            "\n",
            "<http://www.w3.org/2001/vcard-rdf/3.0/FN> a rdfs:Datatype ;\n",
            "    rdfs:range xsd:string .\n",
            "\n",
            "<http://www.w3.org/2001/vcard-rdf/3.0/Family> a rdfs:Property ;\n",
            "    rdfs:range xsd:string .\n",
            "\n",
            "<http://www.w3.org/2001/vcard-rdf/3.0/Given> a rdfs:Datatype ;\n",
            "    rdfs:range xsd:string .\n",
            "\n",
            "\n",
            "Using SPARQL\n",
            "http://data.org#SaraJones http://www.w3.org/1999/02/22-rdf-syntax-ns#type http://data.org#Person\n",
            "http://data.org#JohnSmith http://www.w3.org/1999/02/22-rdf-syntax-ns#type http://data.org#Person\n",
            "http://data.org#JohnSmith http://www.w3.org/2001/vcard-rdf/3.0#Given John\n",
            "http://data.org#JohnSmith http://www.w3.org/2001/vcard-rdf/3.0#EMAIL j.smith@data.org\n",
            "http://data.org#JohnDoe http://www.w3.org/1999/02/22-rdf-syntax-ns#type http://data.org#Person\n",
            "http://data.org#JohnDoe http://www.w3.org/2001/vcard-rdf/3.0#EMAIL doe@data.org\n",
            "http://data.org#JohnDoe http://www.w3.org/2001/vcard-rdf/3.0#Family Doe\n",
            "http://data.org#HarryPotter http://www.w3.org/1999/02/22-rdf-syntax-ns#type http://data.org#Person\n",
            "http://data.org#HarryPotter http://www.w3.org/2001/vcard-rdf/3.0#Given Harry\n",
            "http://data.org#HarryPotter http://www.w3.org/2001/vcard-rdf/3.0#Family Potter\n",
            "@prefix : <http://data.org#> .\n",
            "@prefix rdfs: <http://www.w3.org/2000/01/rdf-schema#> .\n",
            "@prefix vcard-rdf: <http://www.w3.org/2001/vcard-rdf/3.0#> .\n",
            "@prefix xsd: <http://www.w3.org/2001/XMLSchema#> .\n",
            "\n",
            ":Person a rdfs:Class .\n",
            "\n",
            ":HarryPotter a :Person ;\n",
            "    vcard-rdf:EMAIL \"hpotter@hogwarts.org\"^^xsd:string ;\n",
            "    vcard-rdf:FN \"Harry Potter\"^^xsd:string ;\n",
            "    vcard-rdf:Family \"Potter\"^^xsd:string ;\n",
            "    vcard-rdf:Given \"Harry\"^^xsd:string .\n",
            "\n",
            ":JohnDoe a :Person ;\n",
            "    vcard-rdf:EMAIL \"doe@data.org\"^^xsd:string ;\n",
            "    vcard-rdf:Family \"Doe\"^^xsd:string ;\n",
            "    vcard-rdf:Given \"John\"^^xsd:string .\n",
            "\n",
            ":JohnSmith a :Person ;\n",
            "    vcard-rdf:EMAIL \"j.smith@data.org\"^^xsd:string ;\n",
            "    vcard-rdf:Family \"Smith\"^^xsd:string ;\n",
            "    vcard-rdf:Given \"John\"^^xsd:string .\n",
            "\n",
            ":SaraJones a :Person ;\n",
            "    vcard-rdf:EMAIL \"sara.jones@data.org\"^^xsd:string ;\n",
            "    vcard-rdf:Family \"Jones\"^^xsd:string ;\n",
            "    vcard-rdf:Given \"Sara\"^^xsd:string .\n",
            "\n",
            "<http://www.w3.org/2001/vcard-rdf/3.0/EMAIL> a rdfs:Datatype ;\n",
            "    rdfs:range xsd:string .\n",
            "\n",
            "<http://www.w3.org/2001/vcard-rdf/3.0/FN> a rdfs:Datatype ;\n",
            "    rdfs:range xsd:string .\n",
            "\n",
            "<http://www.w3.org/2001/vcard-rdf/3.0/Family> a rdfs:Property ;\n",
            "    rdfs:range xsd:string .\n",
            "\n",
            "<http://www.w3.org/2001/vcard-rdf/3.0/Given> a rdfs:Datatype ;\n",
            "    rdfs:range xsd:string .\n",
            "\n",
            "\n"
          ]
        }
      ],
      "source": [
        "from rdflib.namespace import RDF, RDFS\n",
        "from rdflib.plugins.sparql import prepareQuery\n",
        "data = Namespace(\"http://data.org#\")\n",
        "\n",
        "print(\"Using RDFLib\")\n",
        "\n",
        "for s, p, o in g1.triples((None, RDF.type, data.Person)):\n",
        "  #print(s,p,o) # Lists all triplets in data1.rdf\n",
        "  for su, pr, ob in g1.triples((s, None, None)):\n",
        "    if not (su, pr, ob) in g2:\n",
        "      g2.add((su, pr, ob))\n",
        "\n",
        "print(g2.serialize(format = \"ttl\"))\n",
        "\n",
        "g1 = Graph() # Reset both graphs \n",
        "g2 = Graph()\n",
        "g1.parse(github_storage+\"resources/data01.rdf\", format=\"xml\")\n",
        "g2.parse(github_storage+\"resources/data02.rdf\", format=\"xml\")\n",
        "    \n",
        "print(\"Using SPARQL\")\n",
        "\n",
        "q1 = prepareQuery('''\n",
        "  SELECT \n",
        "    ?s ?p ?o\n",
        "  WHERE { \n",
        "    ?s rdf:type data:Person.\n",
        "    ?s ?p ?o\n",
        "  }\n",
        "  ''',\n",
        "  initNs = {\"rdf\" : RDF, \"data\" : data}\n",
        ")\n",
        "for s,p,o in g1.query(q1):\n",
        "  print(s,p,o)\n",
        "  if (s,p,o) not in g2:\n",
        "    g2.add((s,p,o))\n",
        "print(g2.serialize(format=\"ttl\"))"
      ]
    },
    {
      "cell_type": "code",
      "execution_count": null,
      "metadata": {},
      "outputs": [],
      "source": []
    }
  ],
  "metadata": {
    "colab": {
      "collapsed_sections": [],
      "name": "Task08.ipynb",
      "provenance": []
    },
    "interpreter": {
      "hash": "5bf4024b651d1a623012622104d89a00b6b1f90c343bce2e9c97a6f972e6956f"
    },
    "kernelspec": {
      "display_name": "Python 3.9.7 64-bit",
      "name": "python3"
    },
    "language_info": {
      "codemirror_mode": {
        "name": "ipython",
        "version": 3
      },
      "file_extension": ".py",
      "mimetype": "text/x-python",
      "name": "python",
      "nbconvert_exporter": "python",
      "pygments_lexer": "ipython3",
      "version": "3.9.8"
    }
  },
  "nbformat": 4,
  "nbformat_minor": 0
}
